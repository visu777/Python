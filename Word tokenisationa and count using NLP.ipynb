{
 "cells": [
  {
   "cell_type": "code",
   "execution_count": 1,
   "metadata": {
    "collapsed": true
   },
   "outputs": [],
   "source": [
    "import nltk"
   ]
  },
  {
   "cell_type": "code",
   "execution_count": 10,
   "metadata": {
    "collapsed": true
   },
   "outputs": [],
   "source": [
    "import pandas as pd"
   ]
  },
  {
   "cell_type": "code",
   "execution_count": 16,
   "metadata": {
    "collapsed": true
   },
   "outputs": [],
   "source": [
    "from nltk.stem import WordNetLemmatizer"
   ]
  },
  {
   "cell_type": "code",
   "execution_count": 21,
   "metadata": {
    "collapsed": true
   },
   "outputs": [],
   "source": [
    "lemmatizer=WordNetLemmatizer()"
   ]
  },
  {
   "cell_type": "code",
   "execution_count": 52,
   "metadata": {
    "collapsed": false
   },
   "outputs": [],
   "source": [
    "stopwords = set(w.rstrip().lstrip() for w in open('stopwords.txt'))"
   ]
  },
  {
   "cell_type": "code",
   "execution_count": 53,
   "metadata": {
    "collapsed": false,
    "scrolled": true
   },
   "outputs": [
    {
     "data": {
      "text/plain": [
       "{'',\n",
       " 'a',\n",
       " 'about',\n",
       " 'above',\n",
       " 'across',\n",
       " 'after',\n",
       " 'again',\n",
       " 'against',\n",
       " 'all',\n",
       " 'almost',\n",
       " 'alone',\n",
       " 'along',\n",
       " 'already',\n",
       " 'also',\n",
       " 'although',\n",
       " 'always',\n",
       " 'among',\n",
       " 'an',\n",
       " 'and',\n",
       " 'another',\n",
       " 'any',\n",
       " 'anybody',\n",
       " 'anyone',\n",
       " 'anything',\n",
       " 'anywhere',\n",
       " 'are',\n",
       " 'area',\n",
       " 'areas',\n",
       " 'around',\n",
       " 'as',\n",
       " 'ask',\n",
       " 'asked',\n",
       " 'asking',\n",
       " 'asks',\n",
       " 'at',\n",
       " 'away',\n",
       " 'b',\n",
       " 'back',\n",
       " 'backed',\n",
       " 'backing',\n",
       " 'backs',\n",
       " 'be',\n",
       " 'became',\n",
       " 'because',\n",
       " 'become',\n",
       " 'becomes',\n",
       " 'been',\n",
       " 'before',\n",
       " 'began',\n",
       " 'behind',\n",
       " 'being',\n",
       " 'beings',\n",
       " 'best',\n",
       " 'better',\n",
       " 'between',\n",
       " 'big',\n",
       " 'both',\n",
       " 'but',\n",
       " 'by',\n",
       " 'c',\n",
       " 'came',\n",
       " 'can',\n",
       " 'cannot',\n",
       " 'case',\n",
       " 'cases',\n",
       " 'certain',\n",
       " 'certainly',\n",
       " 'clear',\n",
       " 'clearly',\n",
       " 'come',\n",
       " 'could',\n",
       " 'd',\n",
       " 'did',\n",
       " 'differ',\n",
       " 'different',\n",
       " 'differently',\n",
       " 'do',\n",
       " 'does',\n",
       " 'done',\n",
       " 'down',\n",
       " 'downed',\n",
       " 'downing',\n",
       " 'downs',\n",
       " 'during',\n",
       " 'e',\n",
       " 'each',\n",
       " 'early',\n",
       " 'either',\n",
       " 'end',\n",
       " 'ended',\n",
       " 'ending',\n",
       " 'ends',\n",
       " 'enough',\n",
       " 'even',\n",
       " 'evenly',\n",
       " 'ever',\n",
       " 'every',\n",
       " 'everybody',\n",
       " 'everyone',\n",
       " 'everything',\n",
       " 'everywhere',\n",
       " 'f',\n",
       " 'face',\n",
       " 'faces',\n",
       " 'fact',\n",
       " 'facts',\n",
       " 'far',\n",
       " 'felt',\n",
       " 'few',\n",
       " 'find',\n",
       " 'finds',\n",
       " 'first',\n",
       " 'for',\n",
       " 'four',\n",
       " 'from',\n",
       " 'full',\n",
       " 'fully',\n",
       " 'further',\n",
       " 'furthered',\n",
       " 'furthering',\n",
       " 'furthers',\n",
       " 'g',\n",
       " 'gave',\n",
       " 'general',\n",
       " 'generally',\n",
       " 'get',\n",
       " 'gets',\n",
       " 'give',\n",
       " 'given',\n",
       " 'gives',\n",
       " 'go',\n",
       " 'going',\n",
       " 'good',\n",
       " 'goods',\n",
       " 'got',\n",
       " 'great',\n",
       " 'greater',\n",
       " 'greatest',\n",
       " 'group',\n",
       " 'grouped',\n",
       " 'grouping',\n",
       " 'groups',\n",
       " 'h',\n",
       " 'had',\n",
       " 'has',\n",
       " 'have',\n",
       " 'having',\n",
       " 'he',\n",
       " 'her',\n",
       " 'here',\n",
       " 'herself',\n",
       " 'high',\n",
       " 'higher',\n",
       " 'highest',\n",
       " 'him',\n",
       " 'himself',\n",
       " 'his',\n",
       " 'how',\n",
       " 'however',\n",
       " 'i',\n",
       " 'if',\n",
       " 'important',\n",
       " 'in',\n",
       " 'interest',\n",
       " 'interested',\n",
       " 'interesting',\n",
       " 'interests',\n",
       " 'into',\n",
       " 'is',\n",
       " 'it',\n",
       " 'its',\n",
       " 'itself',\n",
       " 'j',\n",
       " 'just',\n",
       " 'k',\n",
       " 'keep',\n",
       " 'keeps',\n",
       " 'kind',\n",
       " 'knew',\n",
       " 'know',\n",
       " 'known',\n",
       " 'knows',\n",
       " 'l',\n",
       " 'large',\n",
       " 'largely',\n",
       " 'last',\n",
       " 'later',\n",
       " 'latest',\n",
       " 'least',\n",
       " 'less',\n",
       " 'let',\n",
       " 'lets',\n",
       " 'like',\n",
       " 'likely',\n",
       " 'long',\n",
       " 'longer',\n",
       " 'longest',\n",
       " 'm',\n",
       " 'made',\n",
       " 'make',\n",
       " 'making',\n",
       " 'man',\n",
       " 'many',\n",
       " 'may',\n",
       " 'me',\n",
       " 'member',\n",
       " 'members',\n",
       " 'men',\n",
       " 'might',\n",
       " 'more',\n",
       " 'most',\n",
       " 'mostly',\n",
       " 'mr',\n",
       " 'mrs',\n",
       " 'much',\n",
       " 'must',\n",
       " 'my',\n",
       " 'myself',\n",
       " 'n',\n",
       " 'necessary',\n",
       " 'need',\n",
       " 'needed',\n",
       " 'needing',\n",
       " 'needs',\n",
       " 'never',\n",
       " 'new',\n",
       " 'newer',\n",
       " 'newest',\n",
       " 'next',\n",
       " 'no',\n",
       " 'nobody',\n",
       " 'non',\n",
       " 'noone',\n",
       " 'not',\n",
       " 'nothing',\n",
       " 'now',\n",
       " 'nowhere',\n",
       " 'number',\n",
       " 'numbers',\n",
       " 'o',\n",
       " 'of',\n",
       " 'off',\n",
       " 'often',\n",
       " 'old',\n",
       " 'older',\n",
       " 'oldest',\n",
       " 'on',\n",
       " 'once',\n",
       " 'one',\n",
       " 'only',\n",
       " 'open',\n",
       " 'opened',\n",
       " 'opening',\n",
       " 'opens',\n",
       " 'or',\n",
       " 'order',\n",
       " 'ordered',\n",
       " 'ordering',\n",
       " 'orders',\n",
       " 'other',\n",
       " 'others',\n",
       " 'our',\n",
       " 'out',\n",
       " 'over',\n",
       " 'p',\n",
       " 'part',\n",
       " 'parted',\n",
       " 'parting',\n",
       " 'parts',\n",
       " 'per',\n",
       " 'perhaps',\n",
       " 'place',\n",
       " 'places',\n",
       " 'point',\n",
       " 'pointed',\n",
       " 'pointing',\n",
       " 'points',\n",
       " 'possible',\n",
       " 'present',\n",
       " 'presented',\n",
       " 'presenting',\n",
       " 'presents',\n",
       " 'problem',\n",
       " 'problems',\n",
       " 'put',\n",
       " 'puts',\n",
       " 'q',\n",
       " 'quite',\n",
       " 'r',\n",
       " 'rather',\n",
       " 'really',\n",
       " 'right',\n",
       " 'room',\n",
       " 'rooms',\n",
       " 's',\n",
       " 'said',\n",
       " 'same',\n",
       " 'saw',\n",
       " 'say',\n",
       " 'says',\n",
       " 'second',\n",
       " 'seconds',\n",
       " 'see',\n",
       " 'seem',\n",
       " 'seemed',\n",
       " 'seeming',\n",
       " 'seems',\n",
       " 'sees',\n",
       " 'several',\n",
       " 'shall',\n",
       " 'she',\n",
       " 'should',\n",
       " 'show',\n",
       " 'showed',\n",
       " 'showing',\n",
       " 'shows',\n",
       " 'side',\n",
       " 'sides',\n",
       " 'since',\n",
       " 'small',\n",
       " 'smaller',\n",
       " 'smallest',\n",
       " 'so',\n",
       " 'some',\n",
       " 'somebody',\n",
       " 'someone',\n",
       " 'something',\n",
       " 'somewhere',\n",
       " 'state',\n",
       " 'states',\n",
       " 'still',\n",
       " 'such',\n",
       " 'sure',\n",
       " 't',\n",
       " 'take',\n",
       " 'taken',\n",
       " 'than',\n",
       " 'that',\n",
       " 'the',\n",
       " 'their',\n",
       " 'them',\n",
       " 'then',\n",
       " 'there',\n",
       " 'therefore',\n",
       " 'these',\n",
       " 'they',\n",
       " 'thing',\n",
       " 'things',\n",
       " 'think',\n",
       " 'thinks',\n",
       " 'this',\n",
       " 'those',\n",
       " 'though',\n",
       " 'thought',\n",
       " 'thoughts',\n",
       " 'three',\n",
       " 'through',\n",
       " 'thus',\n",
       " 'to',\n",
       " 'today',\n",
       " 'together',\n",
       " 'too',\n",
       " 'took',\n",
       " 'toward',\n",
       " 'turn',\n",
       " 'turned',\n",
       " 'turning',\n",
       " 'turns',\n",
       " 'two',\n",
       " 'u',\n",
       " 'under',\n",
       " 'until',\n",
       " 'up',\n",
       " 'upon',\n",
       " 'us',\n",
       " 'use',\n",
       " 'used',\n",
       " 'uses',\n",
       " 'v',\n",
       " 'very',\n",
       " 'w',\n",
       " 'want',\n",
       " 'wanted',\n",
       " 'wanting',\n",
       " 'wants',\n",
       " 'was',\n",
       " 'way',\n",
       " 'ways',\n",
       " 'we',\n",
       " 'well',\n",
       " 'wells',\n",
       " 'went',\n",
       " 'were',\n",
       " 'what',\n",
       " 'when',\n",
       " 'where',\n",
       " 'whether',\n",
       " 'which',\n",
       " 'while',\n",
       " 'who',\n",
       " 'whole',\n",
       " 'whose',\n",
       " 'why',\n",
       " 'will',\n",
       " 'with',\n",
       " 'within',\n",
       " 'without',\n",
       " 'work',\n",
       " 'worked',\n",
       " 'working',\n",
       " 'works',\n",
       " 'would',\n",
       " 'x',\n",
       " 'y',\n",
       " 'year',\n",
       " 'years',\n",
       " 'yet',\n",
       " 'you',\n",
       " 'young',\n",
       " 'younger',\n",
       " 'youngest',\n",
       " 'your',\n",
       " 'yours',\n",
       " 'z'}"
      ]
     },
     "execution_count": 53,
     "metadata": {},
     "output_type": "execute_result"
    }
   ],
   "source": [
    "stopwords"
   ]
  },
  {
   "cell_type": "code",
   "execution_count": 25,
   "metadata": {
    "collapsed": true
   },
   "outputs": [],
   "source": [
    "from collections import Counter"
   ]
  },
  {
   "cell_type": "code",
   "execution_count": 67,
   "metadata": {
    "collapsed": false
   },
   "outputs": [],
   "source": [
    "def tokenizer(s):\n",
    "    s=s.lower()\n",
    "    tokens= nltk.tokenize.word_tokenize(s)\n",
    "    tokens=[t for t in tokens if len(t)>2]\n",
    "    tokens=[t for t in tokens if t not in stopwords]\n",
    "    tokens=[lemmatizer.lemmatize(t)  for t in tokens]\n",
    "    cnt=Counter()\n",
    "    for word in tokens:\n",
    "        cnt[word]=cnt[word]+1\n",
    "    return cnt"
   ]
  },
  {
   "cell_type": "code",
   "execution_count": 68,
   "metadata": {
    "collapsed": false
   },
   "outputs": [
    {
     "name": "stdout",
     "output_type": "stream",
     "text": [
      "Counter({u'lady': 2, u'wolf': 2, 'wife': 2, 'tokenizing': 1})\n"
     ]
    }
   ],
   "source": [
    " print tokenizer(\"Hi!, This,this is tokenizing me wife,wives, wolves,wolf,ladies,lady \")"
   ]
  },
  {
   "cell_type": "code",
   "execution_count": 69,
   "metadata": {
    "collapsed": false
   },
   "outputs": [],
   "source": [
    "data=''\n",
    "with open('obama.txt', 'r') as myfile:\n",
    "    data=myfile.read().decode('utf-8').strip().replace('\\n', '')\n"
   ]
  },
  {
   "cell_type": "code",
   "execution_count": 70,
   "metadata": {
    "collapsed": false
   },
   "outputs": [
    {
     "name": "stdout",
     "output_type": "stream",
     "text": [
      "Counter({u'obama': 696, u'http': 584, u'trump': 181, u'president': 136, u'joke': 86, u'miss': 85, u'own': 85, u'gon': 82, u'laughing': 76, u'barack': 74, u'...': 70, u\"n't\": 55, u'day': 48, u'biden': 44, u'amp': 42, u'house': 40, u'based': 39, u'legitimacy': 37, u'freddyamazin': 34, u'call': 31, u'people': 30, u'resign': 29, u'via': 28, u'king': 28, u'45th': 28, u'gop': 27, u'presidency': 27, u'white': 27, u'ruin': 27, u'timgostony': 26, u'luther': 25, u'country': 24, u'martin': 24, u'michelle': 23, u'//t.co/h0csbsaqqcrt': 23, u'question': 23, u'interview': 22, u'skipping': 22, u'inauguration': 22, u'wikileaks': 22, u'land': 22, u'video': 22, u'book': 22, u'democrat': 21, u'racist': 21, u'political': 21, u'politics': 20, u'office': 19, u'obama\\u2026': 19, u'donald': 19, u'medium': 19, u'questioned': 19, u'piece': 19, u'mlk': 18, u'conversation': 18, u'administration': 18, u'government': 18, u'protection': 17, u'india': 17, u'merchandisert': 17, u'broemmel': 17, u'love': 17, u'manning': 17, u'expert': 17, u'lewis': 17, u'que': 17, u'mike': 17, u'lie.lewis': 16, u'jesseberney': 16, u'american': 16, u'world': 16, u'john': 15, u'news': 15, u'america': 15, u'final': 15, u'tortured': 15, u'legacy': 15, u'abstain': 14, u'resolution': 14, u'obama\\u2019s': 13, u'reader': 13, u'admits': 13, u'birth': 13, u'live': 13, u'black': 13, u'screwed': 13, u'reading': 13, u'israel=': 13, u'anti-israel': 13, u'republican': 13, u'michikokakutani': 12, u'failure': 12, u'pres': 12, u'talk': 12, u'realdonaldtrump': 12, u'writer': 12, u'joe': 12, u'verified\\u2026rt': 12, u'pappiness': 11, u'upset': 11, u'time': 11, u'week': 11, u'list': 11, u'minute': 11, u'jordan': 11, u'believe': 11, u'fine': 11, u'certificate': 11, u'aaronfullerton': 11, u'hope': 11, u'terrorist': 11, u'series': 10, u'forced': 10, u'life': 10, u'tho': 10, u'realjameswoods': 10, u'hillary': 10, u'park': 10, u'officialseanb_': 10, u'cry': 10, u'freemanning': 10, u'created': 9, u'war': 9, u'farewell': 9, u'vote': 9, u'abc': 9, u'look': 9, u'fake': 9, u'presidential': 9, u'calling': 9, u'protest': 8, u'example': 8, u'yashar': 8, u'mean': 8, u'radio': 8, u'con': 8, u'address': 8, u'track': 8, u'middle': 8, u'https\\u2026rt': 8, u\"'ve\": 8, u'trying': 8, u'israel': 8, u'jr.': 8, u'jihadist': 8, u'gitmo': 8, u'won': 8, u'\\u201chigh': 8, u'poster': 8, u'called': 8, u'genius': 8, u'drone': 8, u'aclu': 8, u'tweet': 7, u'mlkday': 7, u'million': 7, u'jumpman23': 7, u'isi': 7, u'dexterfowler': 7, u'c0nveyrt': 7, u'playerstribune': 7, u'reveals': 7, u'speech': 7, u'putin': 7, u'obamavia': 7, u'read': 7, u'iconic': 7, u'as\\u2026': 7, u'releasing': 7, u'imagine': 7, u'j23app': 7, u'race': 7, u'start': 7, u'transcript': 7, u'sits': 7, u'press': 7, u'enjoy': 6, u'oman': 6, u'goodbye': 6, u'destroyed': 6, u'//t.co/qwccyhued9': 6, u'jcolenc': 6, u'entitled': 6, u'free': 6, u'factaphobe': 6, u'saying': 6, u'birtherism': 6, u'cub': 6, u'obamart': 6, u'soofunnypost': 6, u'fo\\u2026': 6, u'muslimsthe': 6, u'ruined': 6, u'apology': 6, u'guy': 6, u'hours\\u201dhttps': 6, u'trump\\u2026rt': 6, u'kyleedwards': 6, u'policy': 6, u'killed': 6, u'term': 6, u'pxx\\u2026': 6, u'russia': 6, u'5mexicans': 6, u'artist': 6, u'hour': 6, u'shepard': 6, u'central': 6, u'starting': 6, u'woman': 6, u'taniaarw': 6, u'khan': 6, u'del': 6, u'dream': 6, u'disabled': 6, u'colleague': 6, u'feel': 6, u'internal': 6, u'please': 6, u'meeting': 6, u'fairey': 6, u'uberfacts': 6, u'clinton': 6, u'charlesmblow': 6, u'//t.co/rlsuv2bg7irt': 6, u'potus': 6, u'cracking': 6, u'nuclear': 6, u'job': 6, u'mythology': 6, u'owe': 6, u'forget': 5, u'warns': 5, u'hate': 5, u'represented': 5, u'phone': 5, u'presidenttrump': 5, u'obamalegacy': 5, u'journalisming': 5, u'they\\u2019ll': 5, u'droney': 5, u'roycan79': 5, u'child': 5, u'make': 5, u'mother': 5, u'photo': 5, u'thanks': 5, u'night': 5, u'mlkday\\u2026': 5, u'deal': 5, u'thankful': 5, u'action.\\u2026': 5, u'rep.': 5, u'//t.co/iysfg5bpsvrt': 5, u'change': 5, u'heard': 5, u'care': 5, u'adamfriedland': 5, u'discussing': 5, u'college': 5, u'poll': 5, u'wired': 5, u'violence': 5, u'favorite': 5, u'act': 5, u'foxnews': 5, u'bahamajoe0': 5, u'slytherin': 5, u'guantanamo': 5, u'foreign': 5, u'//t.co/bvjlmbwpfzrt': 5, u'power': 5, u'win': 5, u'democracy': 5, u'goodriddance': 5, u'truth': 5, u'announces': 5, u'los': 5, u'//t.co/hbhjqq7mpxrt': 5, u'eight': 5, u'comment': 5, u'laugh': 5, u'position': 5, u'executive': 5, u'alive': 5, u'home': 5, u\"'ll\": 5, u'sycophantic': 4, u'street': 4, u'dnc': 4, u'program': 4, u'law': 4, u'freemanningrt': 4, u'rejected': 4, u'ran': 4, u'talking': 4, u\"'corrosive\": 4, u'tech': 4, u'//t.co/pcm9xwv651rt': 4, u'whitehouse': 4, u'lady': 4, u'en\\u2026rt': 4, u'illegitimate': 4, u'guerra': 4, u'nature': 4, u'com': 4, u'priebus': 4, u'fox': 4, u'post': 4, u'support': 4, u'welcome': 4, u'daily': 4, u'tell': 4, u'politics_pr': 4, u'fuck': 4, u'impeachment': 4, u'civilian': 4, u'ppl': 4, u'reince': 4, u'torch': 4, u'\\U0001f614\\U0001f64f\\U0001f3fc': 4, u'surviving': 4, u'directly': 4, u'happy': 4, u'sat': 4, u'theresistance': 4, u'destroy': 4, u'trump-': 4, u'lolitadrugs': 4, u'paz': 4, u'underestimate': 4, u'money': 4, u'respect': 4, u'ddiamond': 4, u'jami_usa': 4, u'//t.co/gquvjpsnnnrt': 4, u'coverage': 4, u'pas\\xf3': 4, u'4-8': 4, u're-elected': 4, u'the_navy_seals': 4, u'//t.co/hyd28tyqjlrt': 4, u'deafening': 4, u'//t.co/j7fykzjprjrt': 4, u'slindauer2011': 4, u'todo': 4, u'//t.co/tojiozul2zrt': 4, u'passed': 4, u'treated': 4, u\"'extinguishes\": 4, u'night\\u2026': 4, u'meanpiastic': 4, u'secret': 4, u'//t\\u2026rt': 4, u'ready': 4, u'makeamericagreatagain\\u2026': 4, u'moment': 4, u'march': 4, u'run': 4, u'alaskantexanqct': 4, u'operator.\\u2026': 4, u'//t.co/sg6pihzk5ort': 4, u\"'re\": 4, u'peace': 4, u'krauthammer': 4, u'walked': 4, u'go': 4, u'giving': 4, u'receive': 4, u'//t.co/ywanriqayx': 4, u'politicalshort': 4, u'realdrolmo': 4, u'nobel': 4, u'tax': 4, u'advocated': 4, u'\\U0001f62d\\U0001f62d': 4, u'2012': 4, u'special': 4, u'powerful': 4, u'attack': 4, u'ggreenwald': 4, u'decade': 4, u'legitimate': 4, u'wish': 4, u'wshhvlds': 4, u'maga': 4, u'relevant': 4, u'walk': 4, u'party': 4, u'expand': 4, u'boot': 4, u'mandato': 4, u'lost': 4, u'naretevduorp': 4, u'washington': 4, u'romney': 4, u\"'12\": 4, u'voted': 3, u'worth': 3, u'dr.': 3, u'china': 3, u'waronwomen': 3, u'eve\\u2026': 3, u'military': 3, u'campaign': 3, u'typo': 3, u'amazing': 3, u'wrong': 3, u'writing': 3, u'fade': 3, u'gov': 3, u'dailymemesuppiy': 3, u'tcot': 3, u'refugee': 3, u'dumbass': 3, u'friend': 3, u'1967': 3, u'dog': 3, u'departing': 3, u'bush': 3, u'\\U0001f64c\\U0001f3fdobama': 3, u'report': 3, u'une': 3, u'gran\\u2026rt': 3, u'air': 3, u'discurso': 3, u'prison': 3, u'nigger': 3, u'//t.co/j43c1haorwrt': 3, u'edgecrusher23': 3, u'fucking': 3, u'hear': 3, u'shit': 3, u'elcomercio': 3, u'ver': 3, u'finally': 3, u'sweetatertot2': 3, u'lead\\u2026': 3, u'leave': 3, u'fbi': 3, u'doranimated': 3, u'freedomchild3': 3, u'obama.rt': 3, u'fem_atheist': 3, u'left': 3, u'heart': 3, u'write': 3, u'criminal': 3, u'cole': 3, u'khamenei': 3, u'bl\\xe1': 3, u'nation': 3, u'caught': 3, u'released': 3, u'paid': 3, u'hack': 3, u'michaelharrisdr': 3, u'theonion': 3, u\"y'all\": 3, u'dexter': 3, u'benshapiro': 3, u'por': 3, u'despedida': 3, u'youngdems4trump': 3, u'pay': 3, u'youtubert': 3, u'pa\\u2026': 3, u'thinking': 3, u'rosa': 3, u'//t.co/tqmylx2udz': 3, u'conservative': 3, u'critical': 3, u'aca': 3, u'racism': 3, u'ir\\xe1n': 3, u'repjohnlewis': 3, u'deep': 3, u'syrian': 3, u'nytimesh\\u2026rt': 3, u'tribute': 3, u'lobbyist': 3, u'//t.co/1mwmc6d7ikrt': 3, u'contains': 3, u'sense': 3, u'breaking': 3, u'advice': 3, u'questioning': 3, u'idea': 3, u'insurance': 3, u'bank': 3, u'barackobama': 3, u'merchandise': 3, u'enemy': 3, u'set': 3, u'visiting': 3, u'bill': 3, u'acuerdo': 3, u'lastgreatstand': 3, u'some\\u2026': 3, u'moving': 3, u'commonwhitegrls': 3, u'person': 3, u'paulwaldman1': 3, u'couple': 3, u'game': 3, u'purveyor': 3, u'epic': 3, u'lose': 3, u'step': 3, u'//t.co/khxrmzjsirrt': 3, u'usa': 3, u'saddened': 3, u'camera': 3, u'prez': 3, u'russian': 3, u'ago': 3, u'2009': 3, u'pouvoir': 3, u'wait': 3, u'leader': 3, u'chicago': 3, u'1400': 3, u'leaving': 3, u'savagebiden': 3, u'standing': 3, u'account': 3, u'praise': 3, u'relations-what': 3, u'destroying': 3, u'2016': 3, u'mention': 3, u'build-obam\\u2026': 3, u'doing': 3, u'york': 3, u'fowler': 3, u'hood_biologist': 3, u'it\\u2019s': 3, u'meant': 3, u'//t.co/voz33iyo2n': 3, u'edition': 3, u'mitchellvii': 3, u'admin': 3, u'bbc': 3, u'netanyahu': 3, u'unlike': 3, u'dems': 3, u'canva': 3, u'arrest': 3, u'//t.co/hb1jx2iib8': 3, u'congress': 3, u'sister': 3, u'desbarates': 3, u'pardon': 2, u'fuera': 2, u'sexu\\u2026': 2, u'draintheswamp': 2, u'told': 2, u'brainwashed': 2, u'met': 2, u'lemondefr': 2, u'whis\\u2026': 2, u'fantastic': 2, u'refuse': 2, u'phon\\u2026': 2, u'snowden': 2, u'travel': 2, u'demanding': 2, u'fictional': 2, u'despu\\xe9s': 2, u'bombing': 2, u'break': 2, u'memorialize': 2, u\"'member\": 2, u'4moredays': 2, u'nathanzed': 2, u'foxbusiness': 2, u'//t.co/2mzl9zebmzrt': 2, u'primary': 2, u'top': 2, u'fiction': 2, u'bdell1014': 2, u'boston': 2, u'impressionnante': 2, u'seen': 2, u'reelection': 2, u'/\\u2026rt': 2, u'bomb': 2, u'awesomityfun': 2, u'bust': 2, u'rice': 2, u'da': 2, u'joyannreid': 2, u'bar': 2, u'bay': 2, u'bad': 2, u'disaster': 2, u'fair': 2, u'westwingreport': 2, u'iran': 2, u'davidmackau': 2, u'visited': 2, u'protect': 2, u'fri': 2, u'catch': 2, u'evan7257': 2, u'hand': 2, u'yourt': 2, u'sentence': 2, u'human': 2, u'yes': 2, u'candidate': 2, u'potential': 2, u'east': 2, u'auntielanelane': 2, u'right': 2, u'nytimes': 2, u'cnn': 2, u'peopl\\u2026': 2, u'libertylivesher': 2, u'eye': 2, u'genocide': 2, u'cherish': 2, u'civil': 2, u'fight': 2, u'alliance': 2, u'propaganda': 2, u'//t.co/5lvk3l3qx8rt': 2, u'reality': 2, u'glass': 2, u'menos': 2, u'honoring': 2, u'terror': 2, u'choice': 2, u'friendbiden': 2, u'lnyhbt': 2, u'sign': 2, u'cost': 2, u'dbargen': 2, u'current': 2, u'muslim': 2, u'water': 2, u'churchill': 2, u'sharpton': 2, u'angry': 2, u'//t.co/xiaea6jrsbrt': 2, u'afford': 2, u'voc\\xea': 2, u'originally': 2, u'pre\\u2026': 2, u'islamic': 2, u'remember': 2, u'maybe': 2, u'african': 2, u'course': 2, u'thank': 2, u'amigoweb': 2, u'married': 2, u'irony': 2, u'looking': 2, u'turd': 2, u'acct': 2, u'gorrell': 2, u'speaking': 2, u'//t.co/jx2ixfp5ftrt': 2, u'future': 2, u'fivefifths': 2, u'pro': 2, u'marathon': 2, u'bailed': 2, u'mr.': 2, u'urge': 2, u'wire': 2, u'especially': 2, u'cstamper_': 2, u'estoy': 2, u'tomfitton': 2, u'b\\u2026rt': 2, u'//t.co/nfcfrbziz7rt': 2, u'espn': 2, u'elected': 2, u'crooked': 2, u'gaga': 2, u'parent': 2, u'blame': 2, u'para': 2, u'color': 2, u'cancel': 2, u'liberal': 2, u'oliver': 2, u'coincidence.he': 2, u'thousand': 2, u'casa': 2, u'promised': 2, u'kenya': 2, u'cartoon': 2, u'hi-liary': 2, u'//\\u2026rt': 2, u'kill\\u2026': 2, u'oman.prisoners': 2, u'ajplus': 2, u'noor': 2, u'//t.co/eai80qoe12': 2, u'mombot': 2, u'medicare': 2, u'moneymattersrt': 2, u'fallacy': 2, u'complete': 2, u'you\\u2026': 2, u'national': 2, u'markruffalo': 2, u'2008': 2, u'wife': 2, u'yo\\u2026': 2, u'rejialex7': 2, u'presidentrt': 2, u'liar': 2, u'settlement': 2, u'theonlymattbuek': 2, u'health': 2, u'worse': 2, u'smh': 2, u'worst': 2, u'tem': 2, u'salman': 2, u'dailycaller': 2, u'anniversary': 2, u'public': 2, u'promising': 2, u'colored': 2, u'pick': 2, u'action': 2, u'family': 2, u'obamacare': 2, u'7vivaforever777': 2, u'teeny-tiny': 2, u'company': 2, u'glad': 2, u'recall': 2, u'dem': 2, u'accept': 2, u'hours\\u201d': 2, u'archive': 2, u'okay': 2, u'tried': 2, u'breitbart': 2, u'plane': 2, u'help': 2, u'soon': 2, u'paper': 2, u'arrogant': 2, u'76,000': 2, u'taxpayer': 2, u'skipped': 2, u'yr': 2, u'stopped': 2, u'theview': 2, u'acting': 2, u'trudeau': 2, u'issue': 2, u'reason': 2, u'beginning': 2, u'running': 2, u'c0nvey': 2, u'story': 2, u'\\u2764\\U0001f62d': 2, u'illegals': 2, u'2020': 2, u'//t.co/xx5iwvjmktrt': 2, u\"gov't\": 2, u'sell': 2, u'blanca': 2, u'_0hour1__': 2, u'reach': 2, u'cover': 2, u'despise': 2, u'noltenc': 2, u'\\U0001f6ab\\U0001f6ab\\U0001f6ab': 2, u'intelligence': 2, u'//t.co/v5j2ya5apcobama': 2, u'close': 2, u'despatch': 2, u'reverse': 2, u'community': 2, u'simply': 2, u\"l'exercice\": 2, u'due': 2, u'http\\u2026rt': 2, u'champion': 2, u'boy': 2, u'demon': 2, u'grant': 2, u'negotiate': 2, u'//t.co/udiffsewngrt': 2, u'limbaugh': 2, u'jamesb2759': 2, u'openly': 2, u'ambjohnbolton': 2, u'elect': 2, u'mlkjr': 2, u'clemency': 2, u'bit': 2, u'formal': 2, u'success': 2, u'60-80,000': 2, u'sight': 2, u'pen': 2, u'refused': 2, u'orwellforks': 2, u'inaugur\\u2026': 2, u'seeing': 2, u'forward': 2, u'//t.co/uojjthbfb0': 2, u'rhetorical': 2, u'atlantic': 2, u'nothing.rt': 2, u'influence': 2, u'nah': 2, u'thealleyeceeing': 2, u'helping': 2, u'georgiadirtroad': 2, u'vice': 2, u'2007': 2, u'-breitbart': 2, u'issued': 2, u'gang': 2, u'flashback': 2, u'birthplace': 2, u'seized': 2, u'entire': 2, u'bernie': 2, u'bfraser747': 2, u'mmflint': 2, u'folk': 2, u'shovel': 2, u'confession': 2, u'oval': 2, u'presidente': 2, u'illegal': 2, u'baby': 2, u'control': 2, u'sit': 2, u'jfachilli': 2, u'stock': 2, u'attend': 2, u'npr': 2, u'light': 2, u'trump\\u2026obama': 2, u'erasing': 2, u'obama\\U0001f914': 2, u'bill\\u2026': 2, u'2015': 2, u'ferguson': 2, u'front': 2, u'teamcavuto': 2, u'bromance': 2, u'fundamentally': 2, u'rep': 2, u'announced': 2, u'legado': 2, u'//t.co/d5wq2o5n1prt': 2, u'ajamubaraka': 2, u'hussein': 2, u'cnnpolitics': 2, u'embarrassed': 2, u'precisely': 2, u'sadly': 2, u'-bob': 2, u'judgejeanine': 2, u'starlord35': 2, u'mikandynothem': 2, u'ben': 2, u'youtube': 2, u'claim': 2, u'h\\u2026rt': 2, u'tonight': 2, u'fail': 2, u'able': 2, u'pensando': 2, u'prisoner': 2, u'quer\\xeda': 2, u'dijo': 2, u'popink': 2, u'whistleblower': 2, u'fallout': 2, u'evolution': 2, u'view': 2, u'gorrellart': 2, u'truthfeednews': 2, u'you\\u2019re': 2, u'progress': 2, u'taking': 2, u'table': 2, u'mike_pence': 2, u'unsilentnews': 2, u'volunteer': 2, u'kind.of': 2, u'tapped': 2, u'popularized': 2, u'//t.co/s0hngi3ptzrt': 2, u'hi\\u2026rt': 2, u'//t.co/c5sreh6t0lrt': 2, u'like': 2, u'twitter': 2, u'villalobossebas': 2, u'leaf': 2, u'ese': 2, u'potusrt': 2, u'journal': 2, u'freedom': 2, u'\\uff57\\uff52\\uff4f\\uff4e\\uff47\\uff0eit': 2, u'female': 2, u'candidacy': 2, u'protesting': 2, u'record': 2, u'buildthewall': 2, u'chance': 2, u'else': 2, u'using': 2, u'garyyounge': 2, u'limited': 1, u'//t.co/jhhnh6noeg': 1, u'ocio_21': 1, u'hillaryforprison': 1, u'//t.co/rw8\\u2026obama': 1, u'consiste': 1, u'jihad': 1, u'hating': 1, u'cybergent1': 1, u'saved': 1, u'gabrielle': 1, u'someplace': 1, u'voter': 1, u'//t.co/wzqbvmngeu': 1, u'paris': 1, u'//t.co/0jvlg5fex0rt': 1, u'//t.co/v1f536rxd7rt': 1, u'activist': 1, u'teaching': 1, u'immature': 1, u'drudgeheadlines': 1, u'mimimi': 1, u'risk': 1, u'//t.co/4ukeadcfi7listen': 1, u'//t.co/c\\u2026this': 1, u'regional': 1, u'//t.co/us1igxqoou': 1, u'//t.co/ugtgg5d9ib': 1, u'bringing': 1, u'encounter': 1, u'//t.co/ya6rj7xyklrt': 1, u'//t.co/109dce9ifl-': 1, u'prize': 1, u'worldonalert': 1, u'//t.co/xorlqjqrlmrt': 1, u'cause': 1, u'//t.co/wc3khkow4jgood': 1, u'citiz-america': 1, u'//t.co/p3v8botfdu': 1, u'judicial': 1, u'citas': 1, u'importantes': 1, u'inaction': 1, u'fuck\\u2026rt': 1, u'ups': 1, u'bidenfirst': 1, u'broderickgreer': 1, u'horn': 1, u'dish': 1, u'williamo_ritez': 1, u'perfect': 1, u'obexit': 1, u'//t.co/fbhgnvkpxlin': 1, u'lrihendry': 1, u'shining': 1, u'established': 1, u'acordo': 1, u'//t.co/wnytrznk2d': 1, u'mikeacurtis2': 1, u'//t.co/ehoh3dndfyrt': 1, u'nei': 1, u'won.rt': 1, u'//t.co/jumihfxuy6stop': 1, u'gl\\u2026': 1, u'//t.co/pmcwpuopqryou': 1, u'//t.co/dv6evqa7lmrt': 1, u'buzzfeeduk': 1, u'sobre': 1, u'marching': 1, u'officially': 1, u'hero': 1, u'reporter': 1, u'boo-hooing': 1, u'cole\\u2019s': 1, u'100': 1, u'ilkf\\u0131rsatta': 1, u'd\\xeda': 1, u'sayhttps': 1, u'daughter': 1, u'vulnerability': 1, u'completely': 1, u'della': 1, u'settled': 1, u\"merchandise'the\": 1, u'golden': 1, u'outrt': 1, u'divide': 1, u'tryi\\u2026in': 1, u'stephenjmolloy': 1, u'reagan': 1, u'phrase': 1, u'brought': 1, u'zuleicagarcia88': 1, u'moral': 1, u'marmotte': 1, u'castro\\u2014again': 1, u'palestinian': 1, u'//t.\\u2026rt': 1, u'uzakla\\u015ft\\u0131r\\u0131lm\\u0131\\u015fsa': 1, u'ditching': 1, u'joannecar': 1, u'brings': 1, u'expose': 1, u'martinlutherkingday': 1, u'award': 1, u'hurt': 1, u'//t.co/nrcuyds8nsthere': 1, u'60minutesobama': 1, u'//t.co/lrwkvxavo7rt': 1, u'excellent': 1, u'kurtschlichter': 1, u'//t.co/wr8jj43ogj': 1, u'shoot': 1, u'word': 1, u'shame': 1, u'obama-so': 1, u'nateidk': 1, u'ministry': 1, u'refusing': 1, u'lorencehud': 1, u'profootballtalk': 1, u'delegitimizing': 1, u'salvage': 1, u'is.\\u2026': 1, u'joyous': 1, u'//t.co/t9s46mhzdjrt': 1, u'currency': 1, u'//t.co/h0csbsaqqcand': 1, u'hogesnelheidsspoor': 1, u'think.if': 1, u'jordanuhl': 1, u'//t.co/ovuy1k8fi5rt': 1, u'provide': 1, u'damage': 1, u'antiracismday': 1, u'//t.co/jknvzpzsoji': 1, u'gate': 1, u'actuality': 1, u'hoy': 1, u'//t.co/lmrpovcjh3rt': 1, u'//t.co/bshjhv5lffrt': 1, u'earlier': 1, u'//t.co/\\u2026obama': 1, u'abreujoseph\\u2026': 1, u'en\\u2026': 1, u'amid': 1, u'//\\u2026\\U0001f525\\U0001f525\\U0001f525\\U0001f525': 1, u'green': 1, u'\\u2026rt': 1, u'//t.co/tqkefmcmprsome': 1, u'joeconchatv': 1, u'cerrada': 1, u'the\\u2026': 1, u'fakenews\\u2026': 1, u'concubinato': 1, u'foreal': 1, u'japan': 1, u'younge': 1, u'donothingpresident': 1, u'throu\\u2026': 1, u'fit': 1, u'personal': 1, u'fix': 1, u'our\\u2026rt': 1, u'400': 1, u'jelani9': 1, u'fin': 1, u'amigoweb\\u2026': 1, u'terrorists-': 1, u'siegferret': 1, u'hotnewhiphop\\u2026': 1, u'unemployed': 1, u'closer': 1, u'dianamee': 1, u'rhetoric': 1, u'detroit': 1, u'frantically': 1, u'leaned': 1, u'averse': 1, u'reset': 1, u'-obama': 1, u'prophet': 1, u'aide': 1, u'anti-': 1, u'//t.co/yl0wfyoxjgrt': 1, u'//t.co/yeebwy6viu': 1, u'davidcorndc': 1, u'god': 1, u'//t.co/je9xjzksmr': 1, u'maduro': 1, u'//t.co/d1kmajtpsc': 1, u'//t.co/b7ijijgg6c': 1, u'bfd.we': 1, u'undone': 1, u'foundation': 1, u'u.s.': 1, u'threatened': 1, u'//t.co/nii6mdiz8mrt': 1, u'this1isno1': 1, u'presidentafter': 1, u'//t.co/c5sreh6t0li': 1, u'segunyo2222': 1, u'heck': 1, u'mehdirhasan': 1, u'baltic': 1, u'//t.co/quck0v12qjmike': 1, u'bite': 1, u'esheikh_': 1, u'//t.co/eyffusx78wrt': 1, u'//t.co/vffocidc9rrt': 1, u'einen': 1, u'//t.co/2wfp8zrz4fhere': 1, u'f\\xfcr': 1, u'truckersreportrt': 1, u'service': 1, u'combustible\\u2026': 1, u'//t.co/viwebqtnfz': 1, u'//t.co/9vcwxuqa8sclapper': 1, u'songbirdmcd1': 1, u'brainwash': 1, u'bitter': 1, u'nypostmy': 1, u'//t.co/fsmguxoptsrt': 1, u'geneva': 1, u'//t.co/c5sreh6t0lpresenting': 1, u'backrt': 1, u'//t.co/lgqhscownp': 1, u'lower': 1, u'femaletexts': 1, u'4yourvets': 1, u'//t.co/tt7a02fnzthttps': 1, u'soniafarace': 1, u'davidmuto': 1, u'devam': 1, u'tperkins': 1, u'dgardner': 1, u'expanding': 1, u'spayed': 1, u'scenario': 1, u'wagthedog': 1, u'leavejoe': 1, u'//t.co/s8ke7gez3z': 1, u'fumbl\\u2026': 1, u'c5hardtop1999': 1, u'paved': 1, u'conventio\\u2026': 1, u'poland': 1, u'bridge': 1, u'//t.co/j7fykzjprjdo': 1, u'regula\\u2026': 1, u'modern': 1, u'assange': 1, u'//t.co/5kqll7krmfrt': 1, u'far-left': 1, u'well\\u2026': 1, u'vandives': 1, u'allephemeral': 1, u'marleynvo': 1, u'nature\\u2019': 1, u'causing': 1, u'lives.\\u2026': 1, u'rider': 1, u'obamasfailedlegacy': 1, u'//t.co/dcjm0lzqzrrt': 1, u'dessa': 1, u'rt_com': 1, u'nobody-in-chief': 1, u'//t.co/g5wlbnssssrt': 1, u'grave': 1, u'//t.co/hdf9hrngwesell': 1, u'nosratamimi': 1, u'medical': 1, u'repbarbaralee': 1, u'metal': 1, u'stating': 1, u'swamp': 1, u'debramessing': 1, u'deeply': 1, u'//t.co/osjmmce3wtrt': 1, u'outnumbered': 1, u'scream': 1, u'goodbye\\u2019': 1, u'//t.co/6yqkmipqjahere': 1, u'tequila': 1, u'//t.co/s34jz3yq8c': 1, u'president\\u2014one': 1, u'vindictive': 1, u'that.rt': 1, u'biissfuishawn': 1, u'outnumberedfnc': 1, u'nytimesbooks': 1, u'rick': 1, u'patrici15767099': 1, u'raredisease': 1, u'hatingdoes': 1, u'watch': 1, u'calebgardner': 1, u'frying': 1, u'schlichter': 1, u'//t.co/fbeausratx': 1, u'boarder': 1, u'troop': 1, u'peltier': 1, u'estados': 1, u'movement': 1, u'steal': 1, u'secretary': 1, u'momentos': 1, u'mandatory': 1, u'habit': 1, u'rupaul': 1, u'diferen\\xe7a': 1, u'//t.co/ukseak1xudrt': 1, u'//t.co/unj0hdmmldobama': 1, u'decided': 1, u'european': 1, u'//t.co/p3v8botfdurt': 1, u'subject': 1, u'//t.co/uwjq30svv1rt': 1, u'pjmedia_comrt': 1, u'//t.co/ud7pjnrcqyrt': 1, u'interviewing': 1, u'consequence': 1, u'libertaddigital': 1, u'protected': 1, u'true.american': 1, u'senmarkey': 1, u'reddit': 1, u'//t.co/kqbckizzt6': 1, u'omg': 1, u'rolled': 1, u'carisma': 1, u'//t.co/2nmolv72scrt': 1, u'petty\\u2026': 1, u'wtf': 1, u'blackawakening2': 1, u\"'rosa\": 1, u'foresight': 1, u'outcome': 1, u'disdain': 1, u'corrupted': 1, u'//t.co/rnztwrxhzfrt': 1, u'//t.co/scs36le0oort': 1, u'una': 1, u'//t.co/uc7ci2nackwhat': 1, u'beyond': 1, u'contribution': 1, u'expense': 1, u'tough': 1, u'//t.co/m5slpbcpiprt': 1, u'irresponsible': 1, u'2nd': 1, u'//t.co/8rotf9mlj9': 1, u'\\U0001f624\\U0001f624\\U0001f624\\U0001f624': 1, u'//t.co/qwn8tlljf2rt': 1, u'loaded': 1, u'trust': 1, u'offered': 1, u'republican\\u2026': 1, u'speak': 1, u'conference': 1, u'narco-comunismo': 1, u'theknowledge': 1, u'union': 1, u'//t.co/h0csbsaqqcwatch': 1, u'townhallcom': 1, u'presidenciales': 1, u'//t.co/xvsfmv5rukkelly': 1, u'//t.co/gifglf30p6rt': 1, u'//t.co/hkwzy7atdmrt': 1, u'attacked': 1, u'wnts': 1, u'//t.co/lkegki4ncort': 1, u'worker': 1, u'apronta': 1, u'puedes': 1, u'clairvoyant': 1, u'//t.co/xjs7hllydc': 1, u'spin': 1, u'242\\u2026': 1, u'usi\\u2026': 1, u'memoir-writing': 1, u'tank': 1, u'//t.co/xzhnxy76vlmaneiro': 1, u'tane': 1, u'melted': 1, u'lynda2229': 1, u'//t.co/i1mskdxxuzhttps': 1, u'uninsured': 1, u'flooding': 1, u'//t.co/1xk5yh8o0d': 1, u'unos': 1, u'sticker': 1, u'glennkesslerwp': 1, u'//t.co/einquhsswghttps': 1, u'grown': 1, u'staggering.\\u2026rt': 1, u'80m': 1, u'perform': 1, u'beside': 1, u'drofdem': 1, u'th\\u2026': 1, u'dhs': 1, u'//t.co/yn8zgogsw8': 1, u'ago\\u2026': 1, u'seearsusan': 1, u'different.rt': 1, u'peterdaou': 1, u'//t.co/p5wlmkinomrt': 1, u'verified\\u2026sou': 1, u'//t.co/clhoontelort': 1, u'evil': 1, u'todayshow': 1, u'iniziano': 1, u'cassandrarules': 1, u'//t.co/nuosaqqpidrt': 1, u'opportunity': 1, u'kid': 1, u'judgement': 1, u'kept': 1, u'en\\u2026these': 1, u'self-contradictory': 1, u'contact': 1, u'slechts': 1, u'//t.co/7tztu9afca': 1, u'proposed': 1, u'ht\\u2026good': 1, u'//t.co/xhrpz9gw7v': 1, u'succeeding': 1, u'chaffetz': 1, u'slytherinobama': 1, u'jemelehill': 1, u'magically': 1, u'thy': 1, u'nomineefox': 1, u'ele': 1, u'innocent': 1, u'//t.co/puwyl9arwhrt': 1, u'thedailyledger': 1, u'theeconomist': 1, u'basset': 1, u'either.\\u2026': 1, u'possibly': 1, u'//t.co/ls29iqxhsyrt': 1, u'//t.co/silqnkmvomhere': 1, u'judge': 1, u'apart': 1, u'\\u049b\\u0430\\u0440\\u0448\\u0438': 1, u'pence.rt': 1, u'//t.co/3znfjecfozrt': 1, u'appearing': 1, u'merchandisetranscript': 1, u'nude': 1, u'thedailybeast': 1, u'follower': 1, u'533': 1, u'ganha': 1, u'//t.co/txbgnzcmzi': 1, u'security': 1, u'rosaleeadams': 1, u'aimed': 1, u'//t.co/2hfs4edamxrt': 1, u'methedevil414': 1, u'born': 1, u'election': 1, u'baldeguy56': 1, u'xkissinpink_': 1, u'supasaiyaneedee': 1, u'//t.co/enkiuvavfert': 1, u'uma': 1, u'pondered': 1, u'joesixpacksays': 1, u'urine.\\u2026': 1, u'centro': 1, u'//t.co/iggbx4lzmn': 1, u'protagonist': 1, u'buffet': 1, u'obama/hillary': 1, u'losing': 1, u'pausing': 1, u'getout': 1, u'lying..\\U0001f925\\U0001f925\\U0001f925': 1, u'corresp': 1, u'warship': 1, u'sizzling': 1, u'nickxgorton': 1, u'//t.co/7fqrc68boprt': 1, u'cvpayne': 1, u'\\U0001f447\\U0001f3fb': 1, u'meddle': 1, u'low\\u2026': 1, u'nytimesphoto': 1, u'sob': 1, u'//t.co/ubm5loafoxrt': 1, u'lied': 1, u'themsel\\u2026rt': 1, u'//t.co/sy3jph0ec3this': 1, u'son': 1, u'//t.co/s\\u2026rt': 1, u'sow': 1, u'librarian': 1, u'//t.co/\\u2026rt': 1, u'refined': 1, u'//t.co/qybhla8rodrt': 1, u'wan': 1, u'fabric': 1, u'medal': 1, u'//t.co/uvt4ivuqs6in': 1, u'//t.co/ugy6gupvtxrt': 1, u'//t.co/okrfn9szwp': 1, u'ukraine': 1, u'head': 1, u'lan\\xe7a': 1, u'doritoribio': 1, u'cornellbelcher': 1, u'seguir': 1, u'true': 1, u'\\u0440\\u043e\\u0441\\u0441\\u0438\\u044f\\u0433\\u0430': 1, u'pamelagellerrt': 1, u'stephenasmith': 1, u'//t.co/5tw3fbyw6k': 1, u'inside': 1, u'ancestral': 1, u'faking': 1, u'//t.co/lbyugk3lrqrt': 1, u'tril': 1, u'pymes': 1, u'spotlighted': 1, u'merchandisepresident': 1, u'proven': 1, u'ah\\xed': 1, u'nkorea/iran': 1, u'trump.rt': 1, u'chicagonewsnow': 1, u'ship': 1, u'anti-american': 1, u'derecho': 1, u'marking': 1, u'marxist': 1, u'deanofcomedy': 1, u'no': 1, u'tit': 1, u'//t.co/shkeqv0lmirt': 1, u'flood': 1, u'setting': 1, u'republic': 1, u'oscar': 1, u'test': 1, u'alerta': 1, u'roll': 1, u'picture': 1, u'manipulando\\u2026': 1, u'dobbiamo': 1, u'leaveusa': 1, u\"'harmful\": 1, u'rolling': 1, u'liber\\u2026': 1, u'dreuz_1fo': 1, u'martinluthersobizco': 1, u'billion': 1, u'desmantelou': 1, u'santorum': 1, u'//t.co/c94lfh6mo3': 1, u'corleone': 1, u'push': 1, u'//t.co/s4gfp9snfmlook': 1, u'1st': 1, u'part-time': 1, u'affair': 1, u'varneyco': 1, u'focus': 1, u'paula_dockerywake': 1, u'//t.co/kawr2iutzp': 1, u'grateful': 1, u'skin': 1, u'battle': 1, u'//t.co/txidzbbafnrt': 1, u'huffpostpolrt': 1, u'bomber': 1, u'foreverrt': 1, u'//t.co/bvjlmbwpfzrecent': 1, u'21st': 1, u'hold': 1, u'iraq/afg\\u2026': 1, u'di\\u2026': 1, u'vez': 1, u'cnnmex': 1, u'blood-stained': 1, u'environment': 1, u'//t.co/ghfm0ety5iin': 1, u'weakening': 1, u'adviser': 1, u'teamobama': 1, u'supported': 1, u'revamping': 1, u'little': 1, u'oldhickory49': 1, u'//t.co/bvjlmbwpfz': 1, u'deci\\u2026': 1, u'perceived': 1, u'dio': 1, u'//t.co/hbhjqq7mpx': 1, u'level': 1, u'tear': 1, u'die': 1, u'truthrt': 1, u'rosie': 1, u'subway': 1, u'team': 1, u'yall': 1, u'him.obama': 1, u'alexyoung': 1, u'revolution': 1, u'metaquest': 1, u'yea\\u2026rt': 1, u'sophia4trump': 1, u'thinker': 1, u'marmillink': 1, u'todonoticias': 1, u'pmi': 1, u'voltem': 1, u'celebrated': 1, u'suspect': 1, u'//t.co/3gyszbzzd9brennan': 1, u'scripted': 1, u'//t.co/2891glhrxsrt': 1, u'//t.co/k\\u2026rt': 1, u'doubt': 1, u'//t.co/i28ys6j9efrt': 1, u'weekend*obama': 1, u'accountable': 1, u'melhor': 1, u'yourtumblrfeed': 1, u'//t.co/cpygb9cuqyin': 1, u'sending': 1, u'//t.co/eumtpsbto5': 1, u'//t.co/j6e\\u2026so': 1, u'guilty': 1, u'//t.co/iuhdxaxs6srt': 1, u'grenade': 1, u'renzi': 1, u'accomplished': 1, u'gem\\u2026the': 1, u'usually': 1, u'funder': 1, u'share\\u2026': 1, u'massage': 1, u'dumb': 1, u'one-liner': 1, u'explosi\\xf3n': 1, u'semana': 1, u'//t.co/pwq3kr99tx': 1, u'market': 1, u'redstate': 1, u'//t.co/h0csbsaqqcthief': 1, u'prove': 1, u'himhttps': 1, u'visit': 1, u'//t.co/9\\u2026': 1, u'insider': 1, u'wonderfully': 1, u'fakesrt': 1, u'thru': 1, u'//t.co/7yng0oa3eirt': 1, u'-h\\u0131zland\\u0131r\\u0131lm\\u0131\\u015f': 1, u'//t.co/iiuoao3b2g': 1, u'gryffindor': 1, u'\\U0001f595\\U0001f3fe\\U0001f595\\U0001f3fe': 1, u'jail..': 1, u'\\U0001f44f\\U0001f44f\\U0001f44f': 1, u'effort': 1, u'communist': 1, u'cliquecth': 1, u'tehdiyle': 1, u'/trump': 1, u'//t.co/hyd28tyqjlpresident': 1, u'caution': 1, u'//t.co/gbvzldgckqvia': 1, u'pissed.rt': 1, u'\\u2764\\ufe0f\\U0001f46b\\U0001f491': 1, u'crazy': 1, u'liberi': 1, u'stream': 1, u'nexus': 1, u'december': 1, u'agent': 1, u'veteran4trump': 1, u'performed': 1, u'council': 1, u'allowed': 1, u'//t.co/zwnrm\\u2026rt': 1, u'presentacion': 1, u'listens': 1, u'trustworthy': 1, u't\\u2026rt': 1, u'nyt': 1, u'till': 1, u'spin.rt': 1, u'//t.co/y8v0oppdso': 1, u'\\u015fayet': 1, u'speaks': 1, u'tila': 1, u'economy': 1, u'//t.co/8yjclr\\u2026rt': 1, u'huge': 1, u'snl': 1, u'yourselfrt': 1, u'dato': 1, u'//t.co/fxtwmvmxngrt': 1, u'mag': 1, u'//t.co/qk45xxk8jwrt': 1, u'lilianabruney': 1, u'en\\u2026love': 1, u'truck': 1, u'gorged': 1, u'kurt': 1, u'increase': 1, u'//t.co/hjvb4iwguxhere': 1, u'\\u044f\\u043d\\u0430': 1, u'arm': 1, u'jimmy': 1, u'chuckwendig': 1, u'blocked': 1, u'//t.co/eplvacq6pirt': 1, u'//t.co/zznzkqi1jw': 1, u'overhaul': 1, u'mais': 1, u'//t.co/h0csbsaqqchere': 1, u'ter\\u2026': 1, u'//t.co/hxaeslrst3': 1, u'truepundit': 1, u'according': 1, u'\\xfanico': 1, u'ours': 1, u'maio': 1, u'texas': 1, u'//t.co/s2os81ncminew-trends-news': 1, u'noi': 1, u'//t.co/di1ojlycrfrt': 1, u'extra\\xf1o': 1, u'//t.co/qpehiaenyv': 1, u'//t.co/pypfgxwwnprt': 1, u'wealthy': 1, u'nor': 1, u'co\\u2026rt': 1, u'//t.co/cdqeacz3pvrt': 1, u'name': 1, u'inau\\u2026rt': 1, u'drop': 1, u'keyettamarie_': 1, u'oratoria': 1, u'neutered': 1, u'entertainmentweekly': 1, u'en\\u2026obama': 1, u'christian': 1, u'fat\\xeddico': 1, u'tired/sad': 1, u'initiating': 1, u'en\\u2026watch': 1, u'up..obama': 1, u'catching': 1, u'happen': 1, u'//t.co/scrdlpitbrso': 1, u'intended': 1, u'constitution': 1, u'//t.co/ehoh3dndfyi': 1, u'jackson': 1, u'//t.co/ltjt\\u2026rt': 1, u'nytimesh\\u2026here': 1, u'granero': 1, u'smackhighaz': 1, u'megadave5000': 1, u'correct': 1, u'//t.co/g938ot3djlrt': 1, u'attended': 1, u'//t.co/pmxpvzyedgrt': 1, u'settimana': 1, u'//t.co/iqs4fzh4nnrt': 1, u'disrespect': 1, u'bbcworld': 1, u'barak': 1, u'besides': 1, u'grandma': 1, u'//t.co/jkkvwg2zo2': 1, u'cara': 1, u'marine': 1, u'card': 1, u'//t.co/w7lmunv0wert': 1, u'training': 1, u'getchoassbackinthatovalofficeandpresidentsomeshi\\u2026': 1, u'uscire': 1, u'punk': 1, u'//t.co/eca0jnnm\\u2026transcript': 1, u'\\u201cwell': 1, u'upus\\xe9': 1, u'//t.co/vtgmwyvf0thurray': 1, u'jayvanorman': 1, u'//t.co/a6ud6xyyvxrt': 1, u'anne_sinclair': 1, u'datwork': 1, u'yourself': 1, u'expedition1eric': 1, u'estadounidense': 1, u'fast': 1, u'//t.co/j7fykzjprjthe': 1, u'//t.co/abnopvptca': 1, u'tomorrow': 1, u'//t.co/2dm8wg6nbwrt': 1, u'size': 1, u'acceptan\\u2026': 1, u'worldnetdaily': 1, u'//t.co/1uteeroebbrt': 1, u'district': 1, u'freeleonardpeltier': 1, u'//t.co/khxrmzjsirobama': 1, u'cubs\\u2019': 1, u'tragic': 1, u'persecute': 1, u'//t.co/x1ngjiipzqrt': 1, u'care\\u2014until': 1, u'cite': 1, u'meme': 1, u'obama-abd': 1, u'isra\\xebl': 1, u'schlecht': 1, u'//t.co/ibqvqepcg7': 1, u'//t.co/1xni6rjrrk': 1, u'broadcast': 1, u'ridiculous': 1, u'butt': 1, u'//t.co/wrtgtwtmmkwired': 1, u'//t.co/iglriishazrt': 1, u'//t.co/s82v0hjxav': 1, u'lmao': 1, u'tcotrt': 1, u'missmandi00': 1, u'booted': 1, u'sophia': 1, u'//t.co/lq7i1b3o27rt': 1, u'ninarosenwald': 1, u'//t.co/ebnjlhkkyw': 1, u'prestigious': 1, u'slam': 1, u'rent': 1, u'financier': 1, u'well-read': 1, u'//t.co/upnxbsr5vn': 1, u'c0nveyhttps': 1, u'//t.co/s4gfp9snfm': 1, u'binedu_': 1, u'shamsaahmed': 1, u'deux': 1, u'objective': 1, u'swelled': 1, u'wallsrunintome': 1, u'//t.co/bvjlmbwpfzhow': 1, u'multiple': 1, u'opposite': 1, u'guardiannews': 1, u'fails': 1, u'//t.c\\u2026come': 1, u'//t.co/pszty3lnhude': 1, u'//t.co/mwzo0i0ib1in': 1, u'forever': 1, u'democratic': 1, u'drive': 1, u'bidenthe': 1, u'via\\u2026rt': 1, u'pattern': 1, u'//t.c\\u2026obama\\u2019s': 1, u'walking': 1, u'theoneprinceton': 1, u'fboccanera': 1, u'comesailaway85': 1, u'orangino': 1, u'bright': 1, u'shoe': 1, u'//t.co/zbvzmz8wl8rt': 1, u'mister': 1, u'trump\\u2026wow': 1, u'yearspriebus': 1, u'//t.co/aoygkgne2mrt': 1, u'favor': 1, u'proclamation': 1, u'verified\\u2026': 1, u'realmente': 1, u'heytammybruce': 1, u'jnetab': 1, u'//t.co/adb1vajsaeobama\\u2019s': 1, u'owillis': 1, u'johnnyigaloo': 1, u'w/pro': 1, u'//t.co/0qb6llvjyc\\U0001f4da\\u2764\\ufe0f': 1, u'merkel': 1, u'//t.co/aebhfudcra': 1, u'cia': 1, u'truly': 1, u'monde': 1, u'obamalegacyoffailures': 1, u'nearly': 1, u'kike': 1, u'4days': 1, u'w/denial': 1, u'unidos': 1, u'obliterate': 1, u'imbecile': 1, u'joebiden': 1, u'naked': 1, u'embassy': 1, u'predicted': 1, u'chicagocubs': 1, u'disparage': 1, u'declared': 1, u'ny\\u2026oh': 1, u'sterlingwords1': 1, u'seat': 1, u'wobbly-kneed': 1, u'//t.co/ssj5mh8rfgrt': 1, u'ma\\u2026rt': 1, u'//t.co/yuqjjdxpbw': 1, u'wonder': 1, u'appear': 1, u'repeal': 1, u'keyandpeele': 1, u'aiiamericangiri': 1, u'llorar': 1, u'risetoflyy': 1, u'//t.co/ashwztkfuz': 1, u'thethreadmpr': 1, u'presidencia': 1, u'//t.co/r9dw5sthlihere': 1, u'lopen': 1, u'killing': 1, u'como': 1, u'\\u2018corrosive': 1, u'comeback': 1, u'//t.co/mc0uxsak28rt': 1, u'daria': 1, u'celebrar': 1, u'quiet': 1, u'flipped': 1, u'empezar': 1, u'tour': 1, u'disappointment': 1, u'//t.co/79dpu7gqc6': 1, u'12:01': 1, u'cancer': 1, u'guerra\\u2026': 1, u'period': 1, u'mccain': 1, u'accusation': 1, u'acabar': 1, u'boat': 1, u'realdonaldtrumphow': 1, u'late': 1, u'west': 1, u'ziwe': 1, u'informed': 1, u'_political_news': 1, u'poll-': 1, u'acre': 1, u'//t.co/7st6u208iert': 1, u'guillermocelis': 1, u'disappointed': 1, u'educated': 1, u'remnick': 1, u'day-biden': 1, u'haltinauguration': 1, u'dangerous': 1, u'//t.co/ao5zlalssnrt': 1, u'//t.co/cljutrueburt': 1, u'tattooie1964': 1, u'kaos': 1, u'shitbag': 1, u'ott_tristin': 1, u'paying': 1, u'//t.co/mqckcmvp5yrt': 1, u'african-american': 1, u'//t.co/lviywkrykdrt': 1, u'//t.co/gbaxxkrynurt': 1, u'//t.co/pkopmsvfprrt': 1, u'declares': 1, u'//t.co/8ejocybh2rrt': 1, u'//t.co/yugixzsd6drt': 1, u'fool': 1, u'trumpgo_2016': 1, u'russianvids1': 1, u'//t.co/0agyiukmqirt': 1, u'prayer': 1, u'im_hugo1': 1, u'kachninja': 1, u'fame': 1, u'//t.co/qdhrwp5nd5': 1, u'irishrt': 1, u'alayonarlene': 1, u'markharrisnyc': 1, u'worstpresidentever': 1, u'snitty': 1, u'struggling': 1, u'jenlucpiquant': 1, u'pan': 1, u'it.2': 1, u'dafu\\u2026': 1, u'elpolitwico': 1, u'newsmax_mediaobama': 1, u'//t.co/ce3bz8zwicrt': 1, u'director': 1, u'anasilviamoront': 1, u'harris': 1, u'totally': 1, u'gingrich': 1, u'constitutional': 1, u'prot\\u2026': 1, u'completos': 1, u'//t.co/pbp5lylf1q': 1, u'solve': 1, u'stammering': 1, u'obamafailuresrt': 1, u'//t.co/cstlqkcrm4rt': 1, u'//t.co/rw8\\u2026what': 1, u'violent': 1, u'kill': 1, u'aspect': 1, u'polish': 1, u'pamelageller': 1, u'repeal\\u2026rt': 1, u'moscowtimesis': 1, u'blow': 1, u'death': 1, u'townhall': 1, u'tim': 1, u'rose': 1, u'nytimesh\\u2026yes': 1, u'minrt': 1, u'mattmakesmesick': 1, u'hermanntertsch': 1, u'1954-63': 1, u'//t.co/k3911wvs61': 1, u'pill': 1, u'real': 1, u'hacking.clinton': 1, u'//t.co/o9rfdnbgu4rt': 1, u'symbolism': 1, u'execution': 1, u'reap': 1, u'surfermom77': 1, u'intel': 1, u'mahamosa': 1, u'proverbial': 1, u'reduced': 1, u'sneaker': 1, u'naaa': 1, u'verbal': 1, u'//t.co/otpalqx44urt': 1, u'reversed': 1, u'//t.co/jdjetpzbhhrt': 1, u'//t.co/f2jg8m19yc': 1, u'hilarious.rt': 1, u'wanting\\u2026': 1, u'reg1776': 1, u'racial': 1, u'enacting': 1, u'provided': 1, u'//t.co/zfxbwlnhegwatch': 1, u'elijahmalcolm': 1, u'loudobbs': 1, u'\\u0439\\u0438\\u043b\\u0433\\u0430': 1, u'//t.co/bl5kdj0pf4': 1, u'j20': 1, u'blairexmachina': 1, u'//t.co/k6t8prgylh': 1, u'//t.co/iktckwp6g3': 1, u'//t.co/j8pctmmcel': 1, u'//t.co/52tvttdvw6': 1, u'business': 1, u'lmfao': 1, u'seanspicer': 1, u'//t.co/smwynyvnjurt': 1, u'drump': 1, u'ibdeditorials': 1, u'throw': 1, u\"'the\": 1, u'comparison': 1, u'//t.co/2zf7yszki3uhh': 1, u'fenrir4471': 1, u'grotescos': 1, u'//t.co/tbqdmq4qoz': 1, u'stand': 1, u'out\\u2026': 1, u'3rdcarter': 1, u'upshotnyt': 1, u'//t.co/txbg\\u2026rt': 1, u'inclusion': 1, u'oder': 1, u'ver\\xe1s': 1, u'//\\u2026': 1, u'\\u2018strategic': 1, u'homeless': 1, u'apologize': 1, u'jerusalem': 1, u'//t.co/7naikiwpno': 1, u'//t.co/w0xb0t9vk3and': 1, u'//t.co/u2wdtrsdn8rt': 1, u'docgdh': 1, u'doo-doo': 1, u'removing': 1, u'lol': 1, u'barzani': 1, u'//t.co/6piwzfrmlphow': 1, u'lot': 1, u'achter': 1, u't\\xe4glich': 1, u'judicialwatch': 1, u'don\\u2019t': 1, u'jones': 1, u'\\u0431\\u0438\\u0440': 1, u'//t.co/tojiozul2zobama': 1, u'//t.co/0btqks2cpo': 1, u'//t.co/sllgu8jnvccubs': 1, u'art\\xedculo': 1, u'..gop': 1, u'agort': 1, u'rush': 1, u'trump__care': 1, u'//t.co/tmq1zk7mww': 1, u'stories.my': 1, u'confuse': 1, u'negociosrt': 1, u'verified\\u2026how': 1, u'hilarity': 1, u'jabbing': 1, u'//t.co/yg4l1cbjnf': 1, u'newtgingrich': 1, u'50yrs': 1, u'powerless': 1, u'crear': 1, u'toilet': 1, u'taylor': 1, u'//t.co/uplzdaycs4rt': 1, u'//t.co/tsdyzwuzoj': 1, u'thedemocrats': 1, u'an': 1, u'britain': 1, u'ee.uu': 1, u'est\\xe3o': 1, u'//t.co/zxcqlogaoort': 1, u'idiot': 1, u'//t.co/huqd7aqarnvideo': 1, u'fan..': 1, u'event': 1, u'trash': 1, u'cp5': 1, u'itali\\xeb': 1, u'poor': 1, u'beyonc\\xe9': 1, u'//t.co/ebdkzurhizrt': 1, u'sucesso': 1, u'symbol': 1, u'acosta': 1, u'jamesnavacom': 1, u'peak': 1, u'chris': 1, u'words.\\u2026': 1, u'trumptrain': 1, u'freely': 1, u'modern_rock': 1, u'transporte': 1, u'//t.co/lgyskkah9p': 1, u'//t.co/0x99tcokxvrt': 1, u'booker': 1, u'prossimi': 1, u'doubted': 1, u'adamsandmaskey': 1, u'//t.co/mleccsvdat': 1, u'represent': 1, u'consider': 1, u'ali': 1, u'//t.co/h2ty92wsdoobama': 1, u'bull': 1, u'eyeopener': 1, u'//t.co/ejdkwjym2urt': 1, u'thoughtful': 1, u'disc': 1, u'//t.co/itj3bw9grdrt': 1, u'messy': 1, u'treacherypoll': 1, u'//t.co/0gypskm7wd': 1, u'imma': 1, u'bomben': 1, u\"'poison\": 1, u'planes.rt': 1, u'//t.co/udiffsewngyet': 1, u'beneficios': 1, u'faz': 1, u'sound': 1, u'russia/china': 1, u'gerryadamssf': 1, u'birthers': 1, u'//t.co/fynwg1nea2': 1, u'//t.co/qtbkrzz41drt': 1, u'labor': 1, u'cable': 1, u'celebrity': 1, u'housethese': 1, u'cubana./y': 1, u'economically': 1, u'india-us': 1, u'//t.co/owmomtnwlv': 1, u'p\\xe9simo': 1, u'immerhin': 1, u'harder': 1, u'past': 1, u'hice': 1, u'rate': 1, u'//t.co/roihq56r\\u2026rt': 1, u'nba': 1, u'chair': 1, u'confiming.allen': 1, u\"'step\": 1, u'julieborowski': 1, u'hogwartlogic': 1, u'section': 1, u'//t.co/aaca4ikpwurt': 1, u'steph93065': 1, u'mundo_ecpe': 1, u'//t.co/ta4j80cbbart': 1, u'abt': 1, u'vamos': 1, u'outgoing': 1, u'//t.co/qrtrlzcpgert': 1, u'//t.co/nvr1gyhou4rt': 1, u'edg_rrr': 1, u'shawnminnesota': 1, u'mind-b\\u2026': 1, u'verified\\u20264': 1, u'4th\\u2026poll': 1, u'sickrt': 1, u'//t.co\\u2026rt': 1, u'ahead': 1, u'wha\\u2026': 1, u'//t.co/rnkuqsgtt2rt': 1, u'rename': 1, u'//t.co/srgziq5j1prt': 1, u'//t.co/wi8upgf6mb': 1, u'//t.co/phbv8g5i70obama': 1, u'__jasmenaaa': 1, u'whine.obama': 1, u'administraci\\xf3n': 1, u'sanction': 1, u'islamismo': 1, u'tutti': 1, u'reproach': 1, u'charge': 1, u'promise\\u2026rt': 1, u'watch*': 1, u'//t.co/rkmcngi2toobama': 1, u'//t.co/kphkxpq7qgrt': 1, u'door': 1, u'leonard': 1, u'//t.co/l23rtdhwdirt': 1, u'mill': 1, u'ereade\\u2026': 1, u'stick': 1, u'broke': 1, u'//t.co/24r7xe62yn': 1, u'respected': 1, u'guarda': 1, u'vladimir': 1, u'//t.co/r4fkbr04zjobama': 1, u'learn': 1, u'saul42': 1, u'history': 1, u'beautiful': 1, u'embarrassing': 1, u'carpeallthediem': 1, u'brown': 1, u'//t.co/lojqu4qh2vrt': 1, u'trial': 1, u'c\\xf3mo': 1, u'brazenly': 1, u'marginalized': 1, u'pond': 1, u'conspiracy': 1, u'information': 1, u'ledger': 1, u'//t.co/j0s9fch0vyrt': 1, u'oficina': 1, u'thug-in-chief': 1, u'cling': 1, u'girecektir': 1, u'explains': 1, u'//t.co/zwmbvygeknrt': 1, u'signature': 1, u'idiocy': 1, u'n\\xe3o': 1, u'bradthor': 1, u'discuss\\xe3o': 1, u'//t.co/h0csbsaqqcesto': 1, u'susan': 1, u'register': 1, u'wiredrt': 1, u'//t.co/cijohvlyoq': 1, u'debra_derienzo': 1, u'//t.co/wa94tceqwd': 1, u'playing': 1, u'edge\\u2026rt': 1, u'torturous': 1, u'bullcrap': 1, u'september': 1, u'frases': 1, u'har\\xe1': 1, u'telling': 1, u'scott': 1, u'//t.co/kwarvf3al1': 1, u'borisjohnson': 1, u'committed': 1, u'merchandiseyes': 1, u'hell': 1, u'islam': 1, u'one.trump': 1, u'//t.co/hbhjqq7mpxlook': 1, u'pray': 1, u'won\\u2019t': 1, u'denlusk13': 1, u'sideobama': 1, u'normbf1': 1, u'grade': 1, u'radical': 1, u'desmontamos': 1, u'clamor': 1, u'//t.co/xcm7gxyynmrt': 1, u'lukewsavage': 1, u'//t.co/spo3nfn9e3': 1, u'//t.co/ykfpbp6yqr': 1, u'getwisdomdude': 1, u'flatout': 1, u'awarding': 1, u'matthewkburke': 1, u'dir\\xe1': 1, u'deborahtaylor': 1, u'simpatia': 1, u'complain': 1, u'clown.cc': 1, u'all-': 1, u'garyyoungethis': 1, u'freemanningsasha': 1, u'token': 1, u\"didn't\\u2026rt\": 1, u'shocking': 1, u'//t.co/cnyfiahjejopen': 1, u'hartesgeld': 1, u'//t.co/mya686mqp7': 1, u'dispute.he': 1, u'//t.co/w9gaudrv5gsee': 1, u'//t.co/anwh02d902rt': 1, u'fish': 1, u'//t.co/ajltsljlvg': 1, u'gun': 1, u'blackpplvines': 1, u'expect': 1, u'/em': 1, u'operation': 1, u'res.wife': 1, u'//t.co/bwpho3xjuz': 1, u'steven_strauss': 1, u'funding': 1, u'surrounded': 1, u'research': 1, u'fha': 1, u'//t.co/ln9g3vdvhohere': 1, u'plotting': 1, u'hermanntertschappearing': 1, u'bully': 1, u'nbcnews': 1, u'1920s': 1, u'friday': 1, u'bombshell': 1, u'rated': 1, u'tod\\u2026': 1, u'ase': 1, u'teach': 1, u'//t.co/saqr3reeairt': 1, u'octopusgrigori': 1, u'jew': 1, u'//t.co/3eabziqcfurt': 1, u'threat': 1, u'//t.co/26nbforubkrt': 1, u'delegitimize': 1, u'syria': 1, u'//t.co/opj2sbhizehow': 1, u'dumpademmaga': 1, u\"i'm\\u2026\": 1, u'//t.co/8ljgp23u\\u2026president': 1, u'//t.co/djgk9u989crt': 1, u'jessesingal': 1, u'touting': 1, u'//t.co/aawheehogtrt': 1, u'obama.pence': 1, u'//t.co/ay3qtuocjj': 1, u'guest': 1, u'contra': 1, u'5th': 1, u'jeb': 1, u'//t.co/xqsjxcqbaz': 1, u'statement': 1, u'banana': 1, u'selling': 1, u'//t.co/gvtujbipp3': 1, u'democrats\\u2019': 1, u'//t.co/0ezbcpb4l0rt': 1, u're-state': 1, u'obstructed': 1, u'inaugurated': 1, u'//t.co/bvjlmbwpfzall': 1, u'johnfromcranber': 1, u'defende': 1, u'dossier': 1, u'michellemalkin': 1, u'outrageous': 1, u'dts': 1, u'kindle': 1, u'riddance': 1, u'nominee': 1, u'mandatario': 1, u'robert_kulick': 1, u'h\\u2026with': 1, u'paltry': 1, u'confirms': 1, u'lie': 1, u'\\u2018hostile': 1, u'cave': 1, u'expansionist': 1, u'de-funding': 1, u'plasticsdoc75': 1, u'alittlebitroyal': 1, u'build': 1, u'coton_luver': 1, u'donor': 1, u'added': 1, u'godfather': 1, u'exec': 1, u'quote': 1, u'day-all': 1, u'-president': 1, u'significant': 1, u'apoyan': 1, u'boycotting': 1, u'11:11': 1, u'henson': 1, u'//t.co/dwb4uzsae7': 1, u'prot\\u2026rt': 1, u'dramaalert': 1, u'frontpage': 1, u'thekingtyrone': 1, u'foxandfriends': 1, u'fiirtationship': 1, u'barrel': 1, u'attacking': 1, u'true_pundit': 1, u'golf': 1, u'gold': 1, u'summer': 1, u'gr_grim': 1, u'stfu': 1, u'relation': 1, u'http\\u2026these': 1, u'autopista': 1, u'canvart': 1, u'\\U0001f47c\\U0001f3fe': 1, u'multi-billion-': 1, u'failed': 1, u'//t.co/2sgkkvbpyz': 1, u'dysfunctional': 1, u'//t.co/mldx7d9xys': 1, u'gadhaffi': 1, u'cert\\u2026': 1, u'en\\u2026here': 1, u'//t.co/abht8ro8aehow': 1, u'sunny': 1, u'trump-russia': 1, u'\\u25bahttps': 1, u'reiatable': 1, u'sweet_katies': 1, u'correio': 1, u'//t.co/zfzwzgsj4fcubs': 1, u'brianefallon': 1, u'blk/minority': 1, u'//t.co/7h0sbume9lrt': 1, u'djtrump45': 1, u'//t.co/tpnjykou26in': 1, u'//t.co/1gfxu9jvdo': 1, u'//t.co/g7ttjoatvlrt': 1, u'activity': 1, u'desse': 1, u'relentless': 1, u'wrote': 1, u'//t.co/eca0jnnm\\u2026hoping': 1, u'potencianoticias-obama': 1, u'ballerinax': 1, u'vine': 1, u'sex': 1, u'//t.co/7ah6tgexj4rt': 1, u'defense': 1, u'//t.co/gxnrlqascvobama\\u2019s': 1, u'arf': 1, u'//t.co/jsvnkgqrdovideo': 1, u'retweet': 1, u'merch': 1, u'wow': 1, u'currently': 1, u'zimbabwe\\u2019s': 1, u'//t.co/4tc2yu1mvs': 1, u'probably': 1, u'donate': 1, u'//t.co/pm7gfc4ol1': 1, u'corruption': 1, u'knowing': 1, u'racebaiting-marxist-agitators': 1, u'truefactsstated': 1, u'recently': 1, u'//t.co/3gmajq38vyrt': 1, u'ahistorical': 1, u'dalle': 1, u'//t.co/w8fzwv\\u2026rt': 1, u'//t.co/h0csbsaqqcobama': 1, u'neededrt': 1, u'betrayed': 1, u'acabar\\xeda': 1, u'//t.co/2mzl9zebmz': 1, u'lyrical': 1, u'observer': 1, u'//t.co/sg6pihzk5opresident': 1, u'manique\\xedsmo': 1, u'thou': 1, u't\\xfcrkiye': 1, u'//t.co/emqifjitdn': 1, u'//t.co/gdpxermi3frt': 1, u'//t.co/lglfs1dhgui': 1, u'context': 1, u'forgotten': 1, u'20mrt': 1, u'//t.co/wrv02m5xizhere': 1, u'//t.co/xwkzhqaiwhrt': 1, u'newera17michael': 1, u'pessoas': 1, u'lucha': 1, u'except': 1, u'news\\u2026rt': 1, u'//t.co/hhwfbixji0rt': 1, u'throughout': 1, u'//t.c\\u2026update': 1, u'dictadura': 1, u'adrijobecq': 1, u'\\u0441\\u0430\\u043d\\u043a\\u0446\\u0438\\u044f\\u043b\\u0430\\u0440\\u043d\\u0438': 1, u'//t.co/k6bzhsdwpnrt': 1, u'create': 1, u'strategy': 1, u'damn': 1, u'combine': 1, u'//t.co/dvsub2jczdrt': 1, u'dama': 1, u'po': 1, u'empty': 1, u'mugabe': 1, u'//t.co/hneojvtufe': 1, u'lived': 1, u'gay': 1, u'//t.co/qq8u5but9urt': 1, u'doggedly': 1, u'trumpland.rt': 1, u'\\u201808': 1, u'understand': 1, u'//t.co/97zzyfvpzt': 1, u'ziggy_daddy': 1, u'//t.co/07je5t3h0drt': 1, u'mattmfm': 1, u'//t\\u2026president': 1, u'georgia': 1, u'politician': 1, u'clinton/bush/obama': 1, u'reliable': 1, u'budget': 1, u'//t.co/shf8qayoalrt': 1, u'stunde.nicht': 1, u'hilariously': 1, u'bikini': 1, u'fue': 1, u'dzhokhar': 1, u'//t.co/tgczqdsicv': 1, u'\\U0001f4a5\\U0001f4a5': 1, u'century': 1, u'joepalojoe': 1, u'pimpbillclinton': 1, u'remember.\\u2026': 1, u'portosj81': 1, u'gone': 1, u'funny': 1, u'belong': 1, u'870': 1, u'widely': 1, u'that\\u2026': 1, u'obamadr': 1, u'//t.co/ewkter4ld1what': 1, u'amitkalraj': 1, u'//t.co/udiffsewngobama': 1, u'literature': 1, u'//t.co/q2ccvgudbfrt': 1, u'g\\xf6revden': 1, u'//t.co/dma4eqslxwobama': 1, u'cigar': 1, u'fatto': 1, u'alfiokrancic': 1, u'giorni': 1, u'//t.co/qxvzppxlc7': 1, u'//t.co/qfdzjogmy3you': 1, u'picky': 1, u'//t.co/uzsvt5yju7rt': 1, u'spent': 1, u'//t.co/quck0v12qjrt': 1, u'organization': 1, u'president-elect': 1, u'coup': 1, u'one-year': 1, u'whpresscorps': 1, u'competitive': 1, u'libs': 1, u'//t.co/kqq3b6bbtort': 1, u'//t.co/lo8dw11trmin': 1, u'letting': 1, u'\\u30d0\\u30a4\\u30c7\\u30f3\\u300c\\u8133\\u816b\\u760d\\u306b\\u306a\\u308a\\u5dde\\u53f8\\u6cd5\\u9577\\u5b98\\u306e\\u8077\\u3092\\u5931\\u3063\\u305f\\u606f\\u5b50\\u306e\\u6cbb\\u7642\\u306e\\u305f\\u3081\\u306b\\u5bb6\\u3092\\u58f2\\u308d\\u3046\\u3068\\u3057\\u305f\\u79c1\\u306b\\u30aa\\u30d0\\u30de\\u306f\\u300e\\u5bb6\\u306f\\u58f2\\u308b\\u306a\\u3002\\uff08\\u8cbb\\u7528\\u306f\\u79c1\\u304c\\u8abf\\u9054\\u3059\\u308b\\u304b\\u3089\\uff09\\u58f2\\u3089\\u306a\\u3044\\u3068\\u7d04\\u675f\\u3057\\u3066\\u304f\\u308c\\u300f\\u3068\\u8a00\\u3063\\u305f\\u3093\\u3060\\u300d\\u300c\\u30df\\u30b7\\u30a7\\u30eb\\u306f\\u6b74\\u53f2\\u4e0a\\u6700\\u3082\\u7d20\\u6674\\u3089\\u3057\\u3044\\u30d5\\u30a1\\u30fc\\u30b9\\u30c8\\u30ec\\u30c7\\u30a3\\u3060\\u3002miche\\u2026': 1, u'c\\u2026im': 1, u'hated': 1, u'extra': 1, u'cuz': 1, u'//t.co/7cjvvaqny9president': 1, u'//t.co/adew4hl1gw': 1, u'naniof_two': 1, u'//t.co/tgtddk4ebort': 1, u'administrative': 1, u'l\\xf3pez': 1, u'//t.co/37lo9frsibes': 1, u'//t.co/g7mvcrezl0rt': 1, u'cute..': 1, u'ruff': 1, u'ediyor': 1, u'nmapp': 1, u'action.rt': 1, u'vedrem\\u2026': 1, u'washtimesrt': 1, u'bbcmundo': 1, u'shaped': 1, u'9gag': 1, u'\\U0001f602\\U0001f610': 1, u'jornbuhring': 1, u'provoking': 1, u'popular': 1, u'foolish': 1, u'senate': 1, u'impeach': 1, u'//t.co/wpjhfh6w1w': 1, u'magatrump': 1, u'npkapplik8r': 1, u'mildredbeltre': 1, u'//t.co/mit8fyf2bopoll': 1, u'delivered': 1, u'//t.co/sxw2svf2ccit': 1, u'en\\u2026https': 1, u'gerfingerpoken2': 1, u'fairing': 1, u'decision': 1, u'algunas': 1, u'patbick55': 1, u'prosecuted': 1, u'invade': 1, u'harveyhow': 1, u'duret\\xe9': 1, u'claimed': 1, u'//t.co/wib9lb0iy0': 1, u'dejar': 1, u'300': 1, u'continuing': 1, u'//t.co/lrwkvxavo7': 1, u'nuevo': 1, u'exemplo': 1, u'/\\u2026here': 1, u'//t.co/lqlbozbvylrt': 1, u'merchandisein': 1, u'volunteering': 1, u'\\xf6l\\xfcm': 1, u'//t.co/wfh57lbrobrt': 1, u'drama': 1, u'pro-': 1, u\"d'obama\": 1, u'//t.co/txfoo3rduort': 1, u'jan20\\U0001f44d': 1, u'//t.co/cwsfejri9c': 1, u'//t.co/cuvh5bd80wthe': 1, u'farc': 1, u'traitorbecause': 1, u'nigga': 1, u'angela': 1, u'//t.co/l4fjagcg0ohere': 1, u'lesson': 1, u'trumprt': 1, u'religiousfreedomday': 1, u'-mike': 1, u'h\\u2026obama': 1, u'worldstarfunny': 1, u'denied.could': 1, u'handbook': 1, u'prensa': 1, u'//t.co/cy9ffyv50sshould': 1, u'//t.co/v5j2ya5apcrt': 1, u'torcida': 1, u'opponent': 1, u'voracious': 1, u'harrisfaulkner': 1, u'saddsquatch': 1, u'victormlramirez': 1, u'newsmax': 1, u'authority': 1, u'sick': 1, u'jamilsmith': 1, u'role': 1, u'info': 1, u'patriot': 1, u'abracadabra': 1, u'genpenaloza': 1, u'//t.co/aucybymvnkrt': 1, u'dinheiro': 1, u'slander': 1, u'democracy.master': 1, u'hanno': 1, u'hamiltonmusical': 1, u'deplorableman21': 1, u'\\U0001f1fa\\U0001f1f8': 1, u'//t.co/tgltd1ao4z': 1, u'camp': 1, u'//t.co/ihhdcusbyrrt': 1, u'expedition': 1, u'horizons1983': 1, u'//t.co/wrbk034juf': 1, u'//t.co/arbmdjvygg': 1, u'warning': 1, u'become\\u2026rt': 1, u'chat': 1, u'//t.co/2d4rj0uqtv': 1, u'denying': 1, u'9pointsofforgery\\U0001f694-': 1, u'//t.co/eyvtin0qhirt': 1, u'\\U0001f602\\U0001f602.rt': 1, u'mahtowin1': 1, u'//t.co/zxgmavqwxmrt': 1, u'department': 1, u'policies.rt': 1, u'mock': 1, u'nice': 1, u'draw': 1, u'shelter\\u2026sycophantic': 1, u'preside\\u2026': 1, u'no.advisor': 1, u'globonews': 1, u'merchandiseobama\\u2019s': 1, u'prepares': 1, u'htt\\u2026rt': 1, u'kengardner11': 1, u'age': 1, u'resolving': 1, u'bis_sandeep': 1, u'humildade': 1, u'hello': 1, u'catherinegee': 1, u'obama\\u2026we': 1, u'ataque': 1, u'trump.in': 1, u'steve': 1, u'//t.co/cuqzcf6q2g': 1, u'gossip': 1, u'tweeted': 1, u'arremeta': 1, u'concerned': 1, u'bombe\\u2026rt': 1, u'arrogance': 1, u'magn\\xedfico': 1, u'//t.co/3uconxloagrt': 1, u'\\U0001f1e7\\U0001f1f7': 1, u'f\\u2026and': 1, u'sent': 1, u'stocked': 1, u'probe': 1, u'alexmaskeymla': 1, u'issue\\u2026': 1, u'eso': 1, u'\\u043e\\u0431\\u0430\\u043c\\u0430': 1, u'assad': 1, u'//t.co/mkdn36e08z': 1, u'irritatedwoman': 1, u'evo': 1, u'//t.co/73p3c27t\\u2026rt': 1, u'non-americans': 1, u'shock': 1, u'michael': 1, u'//t.co/edkw4or94mrt': 1, u'wit': 1, u'//t.co/ny8ul599dhrt': 1, u'//t.co/uhcijzt1ykrt': 1, u'the_last_newspa': 1, u'grylls': 1, u'//t.co/gmygjq78dg': 1, u'azzrt': 1, u\"work'n\": 1, u'rivera': 1, u'trumpinaugural': 1, u'convergence\\u2019': 1, u'access': 1, u'waiting': 1, u'500': 1, u'typicalglrl': 1, u'//t.co/hl1yh1pj6mrt': 1, u'body': 1, u'chose': 1, u'elonjames': 1, u'\\U0001f1fa\\U0001f1f8\\u2026': 1, u'niveles': 1, u'growing': 1, u'sink': 1, u'//t\\u2026it': 1, u'markgeistswp': 1, u'sind': 1, u'//t.co/bvjlmbwpfzcause': 1, u'//t.co/a5wclgbmmkrt': 1, u'birther': 1, u'tooting': 1, u'suggests': 1, u'ratoneras': 1, u'//t.co/w5gj6iaotwrt': 1, u'defeat': 1, u'opinion': 1, u'spy': 1, u'//t.co/mith1tn8xr': 1, u'lady_patriot3': 1, u'scandal': 1, u'luquecampo': 1, u'roaming': 1, u'//t.co/uibdhfr5x6i': 1, u'fed': 1, u'//t.co/9wd0ttmabycall': 1, u'\\U0001f644rt': 1, u'realdonaldtrumprt': 1, u'//t.co/px0as8mt7crt': 1, u'//t.co/hvmq9\\u2026rt': 1, u'themselves': 1, u'big_man_joshy': 1, u'thecaroldanvers': 1, u'denigrating': 1, u'rich': 1, u'//t.co/bsmuhxumyu': 1, u'missile': 1, u'//t.co/rw8\\u2026rt': 1, u'flouting': 1, u'lega\\u2026': 1, u'tearing': 1, u'appointee': 1, u\"run'rt\": 1, u'//t.co/ie2hk6sgiurt': 1, u'challenge': 1, u'administration.here': 1, u'obvious': 1, u'universe': 1, u'nytopinion': 1, u'proof': 1, u'bittersweet': 1, u'weaker': 1, u'do': 1, u'lock': 1, u'//t.co/xwshyhvwkgrt': 1, u'gowdy': 1, u'pulling': 1, u'sought': 1, u'//t.co/u1ummtdszgrt': 1, u'//t.co/d5wq2o5n1ppresident': 1, u'//t.co/h0csbsaqqc': 1, u'six': 1, u'inaugural': 1, u'inaugurar': 1, u'sebandsoph': 1, u'instead': 1, u'ameri\\u2026': 1, u'//t.co/xcugey0nwxin': 1, u'stop': 1, u'talasman111': 1, u'tied': 1, u'abuse': 1, u'deadassmala': 1, u'thetakeaway': 1, u'thetruthdamit': 1, u'//t.co/0msbq07wa5': 1, u'pagare': 1, u'primera': 1, u'chief': 1, u'honestly': 1, u'shellysure': 1, u'allow': 1, u'healthcare': 1, u'furious': 1, u'trumpforvets': 1, u'chiiiinois': 1, u'mcparland': 1, u'sobizco': 1, u'13.': 1, u'//t.co/7ah6tgexj4': 1, u'perceptions/assumptions': 1, u'mejores': 1, u'themselves.rt': 1, u'bromancehttps': 1, u'confes\\xf3': 1, u'//t.co/cuvcp07bcprt': 1, u'winning': 1, u'blatant': 1, u'mrcham\\u2026': 1, u'//t.co/h0csbsaqqcnote': 1, u'2017': 1, u'ratas': 1, u'violating': 1, u'scotus': 1, u'dal': 1, u'nada': 1, u'ira\\u2026rt': 1, u'//t.co/pkdcb4imgcrt': 1, u'//t.co/jpz5jeetomrt': 1, u'israel.\\U0001f923': 1, u'nfl': 1, u'ryanlcooper': 1, u'by\\u2026': 1, u'//t.co/ggn3ucwrlc': 1, u'//t.co/451wlfsjh6': 1, u'exacerbated': 1, u'//t.co/1b3zdwawwrcubs\\u2019': 1, u'//t.co/ioc2y64yw8': 1, u'gary': 1, u'//t.co/8ljgp23u\\u2026rt': 1, u'//t.co/tojiozul2z': 1, u'brennan.loose': 1, u'visitar\\xe1n': 1, u'marsmellowspop': 1, u'europert': 1, u'//t.co/blxtol6y0ert': 1, u'//t.co/vtgmwyvf0trt': 1, u'frankrijk': 1, u'entertainment': 1, u'//t.co/km8gxmrshxrt': 1, u'w/o': 1, u'potomac': 1, u'=\\u2026rt': 1, u'*must': 1, u'..\\u2026rt': 1, u'lizamavel': 1, u'fun': 1, u'qua': 1, u'jill': 1, u'advisor': 1, u'lifefacts': 1, u'teleprompter': 1, u'//t.co/h2rapffd0vobama': 1, u'david': 1, u'joerodr36477397': 1, u'//t.co/r8vrghmfaurt': 1, u'//t.co/i01spby\\u2026rt': 1, u'mad': 1, u'blogger': 1, u'bitch': 1, u'trahi': 1, u'yourselves': 1, u'playlist': 1, u'nytimesarts': 1, u'hilary': 1, u'grow': 1, u'//t.co/udzidn7rwjrt': 1, u'//t.co/j2vzds7ys2': 1, u'//t.co/cytx5tbxtk': 1, u'unitedobama': 1, u'lori_go': 1, u'//t.co/glk\\u2026rt': 1, u'megan': 1, u'sort': 1, u'depressing': 1, u'campeonato': 1, u'elite': 1, u'i\\u2026rt': 1, u'prnoticias\\u2026': 1, u'personal.obama': 1, u'teamfreedomaz': 1, u'sec': 1, u'bet': 1, u'result': 1, u'false': 1, u'//t.co/w1jybkyx3k': 1, u'julian': 1, u'half': 1, u'grammar.rt': 1, u'aolrt': 1, u'civilized': 1, u'//t.co/pffqfdveghobama': 1, u'f\\u2026rt': 1, u'screw': 1, u'bastard': 1, u'//t.co/wzf8f57ixp': 1, u'flotus': 1, u'spanky34739710': 1, u'agency': 1, u'2.6': 1, u'\\U0001f602\\U0001f602.must': 1, u'd\\u2026rt': 1, u'dxubtyou': 1, u'cubanos': 1, u'tsarnaev': 1, u'unless': 1, u'agenda': 1, u'whn': 1, u'tenure': 1, u'//t.co/ohvkcj88yt': 1, u'privilegeit': 1, u'wonrt': 1, u'//t.co/dxesz5xfyv': 1, u'//t.co/0guxtqb3s1': 1, u'hypocrite': 1, u'devreye': 1, u'liked': 1, u'gather': 1, u'stronger': 1, u'//t.co/ies0zvyhqiin': 1, u'looked': 1, u'wounded': 1, u'//t.co/7vtk3pqrpti': 1, u'iamcardib': 1, u'//t.co/y0xyv5zpovobama\\u2019s': 1, u'irs': 1, u'tariq': 1, u'nasheed': 1, u'boolearyrt': 1, u'leofrmdc': 1, u'//t.co/jmonmhpk83cubs': 1, u'duitsland': 1, u'5pm': 1, u'dreychee': 1, u'satan': 1, u'sh\\u2026': 1, u'echar': 1, u'employed': 1, u'//t.co/u6y7jw8gmj': 1, u'watching': 1, u'60minutes': 1, u'lucky': 1, u'bear': 1, u'feministajones': 1, u'friedensnobelpreistr\\xe4ger': 1, u'//t.co/vawmvrq3lkrt': 1, u'following': 1, u'//t.co/4h4ycxtarqrt': 1, u'//t.co/xx5iwvjmktobama': 1, u'differential': 1, u'//t.co/dnxqfn0ido': 1, u'stuff': 1, u'fixed': 1, u'eitherrt': 1, u'//t.co/rw8\\u2026este': 1, u'frame': 1, u'wherethefather': 1, u'expects': 1, u'trump\\u2026': 1, u'//t.co/hyd28tyqjl': 1, u'closet': 1, u'nightmare': 1, u'posse': 1, u'papurika_dreams': 1, u'horrible': 1, u'neither': 1, u'lip': 1, u'email': 1, u'bought': 1, u'ethic': 1, u'ability': 1, u'//t.c\\u2026': 1, u'importance': 1, u'apoyen': 1, u'taraji': 1, u'wapo': 1, u'marcusmac99': 1, u\"it's\\u2026\": 1, u'equal': 1, u'//t.co/5fx97f5inrrt': 1, u'//t.co/xzhnxy76vlrt': 1, u'illegitimateinauguration': 1, u'author': 1, u'shelter\\u2026rt': 1, u'wall': 1, u'\\u0443\\u0437\\u0430\\u0439\\u0442\\u0438\\u0440\\u0434\\u0438https': 1, u'llegado': 1, u'ce': 1, u'manh\\xe3': 1, u'emphathetic': 1, u'thinkprogress': 1, u'deirezzor': 1, u'\\U0001f914rt': 1, u'tc_m3k': 1, u'citizenship': 1, u'debt': 1, u'globalgenesrt': 1, u'responds': 1, u'treat': 1, u'inadequate': 1, u'brennan\\u2019s': 1, u'regulations377': 1, u'silvio_mkt': 1, u'cubans-\\u2026rt': 1, u'legitimacystephanopoulos': 1, u'holiday': 1, u'norway': 1, u'terms.in': 1, u'leaker': 1, u'value': 1, u'sometimes': 1, u'fascism': 1, u'fault': 1, u'//t.co/mrh1mn6kufyou': 1, u\"'60\": 1, u'frustrating': 1, u'//t.co/wnu5mikg0win': 1, u'homem': 1, u'//t.co/sl3yfzqnhl': 1, u'bettybuckley': 1, u'//t.co/sxw2svf2ccrt': 1, u'//t.co/u6wjf78pwj': 1, u'de-legitimize': 1, u'accolad\\u2026': 1, u'//t.co/9te435uskl': 1, u'halfwits': 1, u'years.so': 1, u'//t.co/zcy2ssn1aq': 1, u'amer': 1, u'//t.co/t7vgpflach': 1, u'clayaiken': 1, u'//t.co/nwwdawdstxrt': 1, u'aggression.\\u2026': 1, u'juan': 1, u'iphone/android': 1, u'obamafarewell\\u2026': 1, u'demsrt': 1, u'//t.co/em9bo5y9on': 1, u'//t.co/9qgvw46d\\u2026': 1, u'speaker': 1, u'enochpratt': 1, u'//t.co/fw\\u2026rt': 1, u'drink': 1, u'therealroseanne': 1, u'//t.co/bwslhdoi4nrt': 1, u'himwith': 1, u'patriotmaga': 1, u'rift': 1, u'obamas': 1, u'\\U0001f1fa\\U0001f1f8\\U0001f914rt': 1, u'//t.co/c8uoooskibrt': 1, u'fighting': 1, u'spanje': 1, u'usual': 1, u'//t.co/fqvowgig9vrt': 1, u'arming': 1, u'makeamericagreatagain': 1, u'pres\\u2026': 1, u'qu\\xe9': 1, u'celestinebee': 1, u'fishing': 1, u'forkicksnbits': 1, u'keylareyna04': 1, u'vida': 1, u'forbes': 1, u'extends': 1, u'esfarrapado.for': 1, u'tponews': 1, u'citizen': 1, u'ok.': 1, u'//t.co/aqrvuwuclk': 1, u'blackberry': 1, u'aglomeran': 1, u'periodos': 1, u'tick': 1, u'//t.co/h0csbsaqqcbarack': 1, u'lincoln': 1, u'cabinetexecutive': 1, u'//t.co/qtaw3ayc8drt': 1, u'theview=despicable': 1, u'cosas': 1, u'girl': 1, u'journalist': 1, u'roto': 1, u'//t.co/klkb5jrbrq': 1, u'chico': 1, u'suppressthis': 1, u'virginity': 1, u'shed': 1, u'huffpostpol': 1, u'maligned': 1, u'jaysekulow': 1, u'islam.forced': 1, u'searching': 1, u'export': 1, u'drhonor': 1, u'proper': 1, u'idk_hope': 1, u'ghostpanther': 1, u'cafepress': 1, u'mediabuzzrt': 1, u'rep\\xf3rteres': 1, u'//t.co/qh4tdd7s1iclassified': 1, u'inaccurate': 1, u'*trump': 1, u'//t.co/0hskfsmaxxrt': 1, u'ht\\u2026rt': 1, u'vs.': 1, u'//t.co/h3yporualureporters': 1, u'rare': 1, u'column': 1, u'nprpolitics': 1, u'angeles': 1, u'complet\\xf3': 1, u'douthatnyt': 1, u'\\u2026in': 1, u'unreleased': 1, u'baseless': 1, u'wandathibodeaux': 1, u'emotivo': 1, u'obamafortreason\\u2026': 1, u'//t.co/3esbeytcklthis': 1, u'carichampion': 1, u'coupiegoais': 1, u'//t.co/mfgcqrtmfq': 1, u'budge\\u2026': 1, u'malfeasance': 1, u'pulula': 1, u'nuke': 1, u'transfer': 1, u'housing': 1, u'progre': 1, u'ir\\xe3o': 1, u'biggest': 1, u'//t.co/r8w7gvv6lbrt': 1, u'quanto': 1, u'exceptionalism': 1, u'globe': 1, u'laredo': 1, u'liampayne': 1, u'appointing': 1, u'blaming': 1, u'reminds': 1, u'they\\u2026': 1, u'witness': 1, u'he': 1, u'count': 1, u'//t.co/he2eqayauprt': 1, u'glory': 1, u'//t.co/jskxbwisfkhere': 1, u'official': 1, u'umairh': 1, u'signed': 1, u'incompetent': 1, u'//t.co/skhgzdfpbart': 1, u'//t.co/rlpxrscvcjrt': 1, u'limit': 1, u'//t.co/h0csbsaqqcfinally': 1, u'monument': 1, u'circunstancia': 1, u'cientos': 1, u'slack2thefuture': 1, u'potustrump6': 1, u'whisper': 1, u'penny': 1, u'correction': 1, u'ftrt': 1, u'patvpeters': 1, u'tem-se': 1, u'education': 1, u'them-time': 1, u'inc': 1, u'//t.co/kseqxgjjiort': 1, u'incredible': 1, u'shot': 1, u'jenseniorny': 1, u'claiming': 1, u'portion': 1, u'//t.co/mahfusuwdsobama': 1, u'//t.co/kavktxm7kmrt': 1, u'branch': 1, u'c0nveyobama': 1, u'//t.co/rndhrj4o20': 1, u'savagejoebiden': 1, u'tommorr32543767': 1, u'monday': 1, u'bailing': 1, u'//t.co/5ke\\u2026rt': 1, u'stay': 1, u'//t.co/hzkcxrryn4': 1, u'cliff': 1, u'coltonlampert': 1, u'purtroppo.rt': 1, u'jewel': 1, u'//t.co/ny8ul599dhin': 1, u'uneducated': 1})\n"
     ]
    }
   ],
   "source": [
    " print tokenizer(data)"
   ]
  },
  {
   "cell_type": "code",
   "execution_count": 71,
   "metadata": {
    "collapsed": false
   },
   "outputs": [
    {
     "name": "stdout",
     "output_type": "stream",
     "text": [
      "[(u'obama', 696), (u'http', 584), (u'trump', 181), (u'president', 136), (u'joke', 86), (u'miss', 85), (u'own', 85), (u'gon', 82), (u'laughing', 76), (u'barack', 74)]\n"
     ]
    }
   ],
   "source": [
    " print tokenizer(data).most_common(10)"
   ]
  },
  {
   "cell_type": "code",
   "execution_count": null,
   "metadata": {
    "collapsed": true
   },
   "outputs": [],
   "source": []
  },
  {
   "cell_type": "code",
   "execution_count": 31,
   "metadata": {
    "collapsed": false
   },
   "outputs": [
    {
     "data": {
      "text/plain": [
       "{1, 2, 3, 4}"
      ]
     },
     "execution_count": 31,
     "metadata": {},
     "output_type": "execute_result"
    }
   ],
   "source": [
    "set([1,2,3,4,1,2,3])"
   ]
  },
  {
   "cell_type": "code",
   "execution_count": null,
   "metadata": {
    "collapsed": true
   },
   "outputs": [],
   "source": []
  }
 ],
 "metadata": {
  "kernelspec": {
   "display_name": "Python 2",
   "language": "python",
   "name": "python2"
  },
  "language_info": {
   "codemirror_mode": {
    "name": "ipython",
    "version": 2
   },
   "file_extension": ".py",
   "mimetype": "text/x-python",
   "name": "python",
   "nbconvert_exporter": "python",
   "pygments_lexer": "ipython2",
   "version": "2.7.11"
  }
 },
 "nbformat": 4,
 "nbformat_minor": 0
}
